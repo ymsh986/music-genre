{
 "cells": [
  {
   "cell_type": "markdown",
   "metadata": {},
   "source": [
    "# Music Genre Prediction"
   ]
  },
  {
   "cell_type": "code",
   "execution_count": 1,
   "metadata": {},
   "outputs": [],
   "source": [
    "class Config:\n",
    "    NB = '203'\n",
    "    dataset_NB = '102'\n",
    "    #stacking_NB = ['212', '213', '214']\n",
    "    stacking_NB = False\n",
    "\n",
    "    raw_data_dir = '../data/raw/'\n",
    "    processed_data_dir = '../data/processed/'\n",
    "    interim_dir = '../data/interim/'\n",
    "    submission_dir = '../data/submission/'\n",
    "\n",
    "    random_seed = 42\n",
    "    n_folds = 5\n",
    "\n",
    "    row_id = 'index'\n",
    "    target = 'genre'"
   ]
  },
  {
   "cell_type": "markdown",
   "metadata": {},
   "source": [
    "## Import libralies"
   ]
  },
  {
   "cell_type": "code",
   "execution_count": 2,
   "metadata": {},
   "outputs": [],
   "source": [
    "import os\n",
    "import gc\n",
    "import warnings\n",
    "warnings.filterwarnings('ignore')\n",
    "\n",
    "import scipy as sp\n",
    "import numpy as np\n",
    "import pandas as pd\n",
    "pd.set_option('display.max_rows', 500)\n",
    "pd.set_option('display.max_columns', 500)\n",
    "pd.set_option('display.width', 1000)\n",
    "from tqdm.auto import tqdm\n",
    "import itertools\n",
    "\n",
    "import matplotlib.pyplot as plt\n",
    "import seaborn as sns\n",
    "\n",
    "%matplotlib inline\n",
    "sns.set(style='white', context='notebook', palette='deep')"
   ]
  },
  {
   "cell_type": "code",
   "execution_count": 3,
   "metadata": {},
   "outputs": [],
   "source": [
    "import plotly.graph_objects as go\n",
    "from plotly.subplots import make_subplots\n",
    "import plotly.figure_factory as ff\n",
    "\n",
    "plotly_template = dict(\n",
    "    layout=go.Layout(\n",
    "        template='plotly_dark',\n",
    "        font=dict(\n",
    "            family=\"Franklin Gothic\",\n",
    "            size=12\n",
    "        ),\n",
    "        height=500,\n",
    "        width=1000,\n",
    "    )\n",
    ")\n",
    "\n",
    "color_palette = {\n",
    "    'Bin': ['#016CC9','#E876A3'],\n",
    "    'Cat5': ['#E876A3', '#E0A224', '#63B70D', '#6BCFF6', '#13399E'],\n",
    "    'Cat10': ['#E876A3', '#E0A224', '#63B70D', '#6BCFF6', '#13399E', '#E876A3', '#E0A224', '#63B70D', '#6BCFF6', '#13399E'],\n",
    "}"
   ]
  },
  {
   "cell_type": "code",
   "execution_count": 4,
   "metadata": {},
   "outputs": [],
   "source": [
    "import random\n",
    "import joblib\n",
    "import itertools\n",
    "from itertools import combinations\n",
    "from imblearn.under_sampling import RandomUnderSampler\n",
    "\n",
    "from sklearn.model_selection import StratifiedKFold, GroupKFold, train_test_split\n",
    "from sklearn.preprocessing import LabelEncoder\n",
    "import lightgbm as lgb\n",
    "\n",
    "from sklearn.metrics import roc_auc_score, roc_curve, auc, f1_score, confusion_matrix\n",
    "import scipy.stats as stats\n",
    "from lightgbm import LGBMClassifier, early_stopping"
   ]
  },
  {
   "cell_type": "markdown",
   "metadata": {},
   "source": [
    "## Load and check data"
   ]
  },
  {
   "cell_type": "code",
   "execution_count": 5,
   "metadata": {},
   "outputs": [
    {
     "data": {
      "text/plain": [
       "(4046, 40)"
      ]
     },
     "execution_count": 5,
     "metadata": {},
     "output_type": "execute_result"
    }
   ],
   "source": [
    "df_train = pd.read_pickle(Config.processed_data_dir + f'nb{Config.dataset_NB}_train.pkl', compression='zip')\n",
    "df_test = pd.read_pickle(Config.processed_data_dir + f'nb{Config.dataset_NB}_test.pkl', compression='zip')\n",
    "\n",
    "submission = pd.read_csv(Config.raw_data_dir + 'sample_submit.csv', header=None)\n",
    "\n",
    "df_train.shape"
   ]
  },
  {
   "cell_type": "code",
   "execution_count": 6,
   "metadata": {},
   "outputs": [
    {
     "data": {
      "text/html": [
       "<div>\n",
       "<style scoped>\n",
       "    .dataframe tbody tr th:only-of-type {\n",
       "        vertical-align: middle;\n",
       "    }\n",
       "\n",
       "    .dataframe tbody tr th {\n",
       "        vertical-align: top;\n",
       "    }\n",
       "\n",
       "    .dataframe thead th {\n",
       "        text-align: right;\n",
       "    }\n",
       "</style>\n",
       "<table border=\"1\" class=\"dataframe\">\n",
       "  <thead>\n",
       "    <tr style=\"text-align: right;\">\n",
       "      <th></th>\n",
       "      <th>index</th>\n",
       "      <th>genre</th>\n",
       "      <th>popularity</th>\n",
       "      <th>duration_ms</th>\n",
       "      <th>acousticness</th>\n",
       "      <th>positiveness</th>\n",
       "      <th>danceability</th>\n",
       "      <th>loudness</th>\n",
       "      <th>energy</th>\n",
       "      <th>liveness</th>\n",
       "      <th>speechiness</th>\n",
       "      <th>instrumentalness</th>\n",
       "      <th>tempo_int</th>\n",
       "      <th>region_A</th>\n",
       "      <th>region_B</th>\n",
       "      <th>region_C</th>\n",
       "      <th>region_D</th>\n",
       "      <th>region_E</th>\n",
       "      <th>region_F</th>\n",
       "      <th>region_G</th>\n",
       "      <th>region_H</th>\n",
       "      <th>region_I</th>\n",
       "      <th>region_J</th>\n",
       "      <th>region_K</th>\n",
       "      <th>region_L</th>\n",
       "      <th>region_M</th>\n",
       "      <th>region_N</th>\n",
       "      <th>region_O</th>\n",
       "      <th>region_P</th>\n",
       "      <th>region_Q</th>\n",
       "      <th>region_R</th>\n",
       "      <th>region_S</th>\n",
       "      <th>region_T</th>\n",
       "      <th>unknown</th>\n",
       "      <th>duration_long</th>\n",
       "      <th>PCA1</th>\n",
       "      <th>PCA2</th>\n",
       "      <th>PCA3</th>\n",
       "      <th>PCA4</th>\n",
       "      <th>PCA5</th>\n",
       "    </tr>\n",
       "  </thead>\n",
       "  <tbody>\n",
       "    <tr>\n",
       "      <th>0</th>\n",
       "      <td>0</td>\n",
       "      <td>10.0</td>\n",
       "      <td>11</td>\n",
       "      <td>201094</td>\n",
       "      <td>0.112811</td>\n",
       "      <td>0.157247</td>\n",
       "      <td>0.187841</td>\n",
       "      <td>-1.884852</td>\n",
       "      <td>0.893918</td>\n",
       "      <td>0.363568</td>\n",
       "      <td>0.390108</td>\n",
       "      <td>0.888884</td>\n",
       "      <td>152</td>\n",
       "      <td>0.0</td>\n",
       "      <td>0.0</td>\n",
       "      <td>0.0</td>\n",
       "      <td>0.0</td>\n",
       "      <td>0.0</td>\n",
       "      <td>0.0</td>\n",
       "      <td>0.0</td>\n",
       "      <td>1.0</td>\n",
       "      <td>0.0</td>\n",
       "      <td>0.0</td>\n",
       "      <td>0.0</td>\n",
       "      <td>0.0</td>\n",
       "      <td>0.0</td>\n",
       "      <td>0.0</td>\n",
       "      <td>0.0</td>\n",
       "      <td>0.0</td>\n",
       "      <td>0.0</td>\n",
       "      <td>0.0</td>\n",
       "      <td>0.0</td>\n",
       "      <td>0.0</td>\n",
       "      <td>0.0</td>\n",
       "      <td>0</td>\n",
       "      <td>-41047.028616</td>\n",
       "      <td>-18.457388</td>\n",
       "      <td>30.293345</td>\n",
       "      <td>-5.422681</td>\n",
       "      <td>-0.104217</td>\n",
       "    </tr>\n",
       "    <tr>\n",
       "      <th>1</th>\n",
       "      <td>1</td>\n",
       "      <td>8.0</td>\n",
       "      <td>69</td>\n",
       "      <td>308493</td>\n",
       "      <td>0.101333</td>\n",
       "      <td>0.346563</td>\n",
       "      <td>0.554444</td>\n",
       "      <td>-5.546495</td>\n",
       "      <td>0.874409</td>\n",
       "      <td>0.193892</td>\n",
       "      <td>0.161497</td>\n",
       "      <td>0.123910</td>\n",
       "      <td>176</td>\n",
       "      <td>0.0</td>\n",
       "      <td>0.0</td>\n",
       "      <td>0.0</td>\n",
       "      <td>0.0</td>\n",
       "      <td>0.0</td>\n",
       "      <td>0.0</td>\n",
       "      <td>0.0</td>\n",
       "      <td>0.0</td>\n",
       "      <td>1.0</td>\n",
       "      <td>0.0</td>\n",
       "      <td>0.0</td>\n",
       "      <td>0.0</td>\n",
       "      <td>0.0</td>\n",
       "      <td>0.0</td>\n",
       "      <td>0.0</td>\n",
       "      <td>0.0</td>\n",
       "      <td>0.0</td>\n",
       "      <td>0.0</td>\n",
       "      <td>0.0</td>\n",
       "      <td>0.0</td>\n",
       "      <td>0.0</td>\n",
       "      <td>0</td>\n",
       "      <td>66351.971231</td>\n",
       "      <td>-40.207097</td>\n",
       "      <td>-28.864875</td>\n",
       "      <td>-1.711876</td>\n",
       "      <td>0.778478</td>\n",
       "    </tr>\n",
       "    <tr>\n",
       "      <th>2</th>\n",
       "      <td>2</td>\n",
       "      <td>3.0</td>\n",
       "      <td>43</td>\n",
       "      <td>197225</td>\n",
       "      <td>0.496420</td>\n",
       "      <td>0.265391</td>\n",
       "      <td>0.457642</td>\n",
       "      <td>-9.255670</td>\n",
       "      <td>0.439933</td>\n",
       "      <td>0.217146</td>\n",
       "      <td>0.369057</td>\n",
       "      <td>0.166470</td>\n",
       "      <td>76</td>\n",
       "      <td>0.0</td>\n",
       "      <td>0.0</td>\n",
       "      <td>0.0</td>\n",
       "      <td>0.0</td>\n",
       "      <td>1.0</td>\n",
       "      <td>0.0</td>\n",
       "      <td>0.0</td>\n",
       "      <td>0.0</td>\n",
       "      <td>0.0</td>\n",
       "      <td>0.0</td>\n",
       "      <td>0.0</td>\n",
       "      <td>0.0</td>\n",
       "      <td>0.0</td>\n",
       "      <td>0.0</td>\n",
       "      <td>0.0</td>\n",
       "      <td>0.0</td>\n",
       "      <td>0.0</td>\n",
       "      <td>0.0</td>\n",
       "      <td>0.0</td>\n",
       "      <td>0.0</td>\n",
       "      <td>0.0</td>\n",
       "      <td>0</td>\n",
       "      <td>-44916.030091</td>\n",
       "      <td>57.856874</td>\n",
       "      <td>-1.052937</td>\n",
       "      <td>0.660017</td>\n",
       "      <td>-0.671912</td>\n",
       "    </tr>\n",
       "    <tr>\n",
       "      <th>3</th>\n",
       "      <td>3</td>\n",
       "      <td>10.0</td>\n",
       "      <td>45</td>\n",
       "      <td>301092</td>\n",
       "      <td>0.165667</td>\n",
       "      <td>0.245533</td>\n",
       "      <td>0.356578</td>\n",
       "      <td>-5.088788</td>\n",
       "      <td>0.868704</td>\n",
       "      <td>0.377025</td>\n",
       "      <td>0.226677</td>\n",
       "      <td>0.175399</td>\n",
       "      <td>192</td>\n",
       "      <td>0.0</td>\n",
       "      <td>0.0</td>\n",
       "      <td>1.0</td>\n",
       "      <td>0.0</td>\n",
       "      <td>0.0</td>\n",
       "      <td>0.0</td>\n",
       "      <td>0.0</td>\n",
       "      <td>0.0</td>\n",
       "      <td>0.0</td>\n",
       "      <td>0.0</td>\n",
       "      <td>0.0</td>\n",
       "      <td>0.0</td>\n",
       "      <td>0.0</td>\n",
       "      <td>0.0</td>\n",
       "      <td>0.0</td>\n",
       "      <td>0.0</td>\n",
       "      <td>0.0</td>\n",
       "      <td>0.0</td>\n",
       "      <td>0.0</td>\n",
       "      <td>0.0</td>\n",
       "      <td>0.0</td>\n",
       "      <td>0</td>\n",
       "      <td>58950.971693</td>\n",
       "      <td>-56.536491</td>\n",
       "      <td>-4.939926</td>\n",
       "      <td>-1.791299</td>\n",
       "      <td>-0.026038</td>\n",
       "    </tr>\n",
       "    <tr>\n",
       "      <th>4</th>\n",
       "      <td>4</td>\n",
       "      <td>3.0</td>\n",
       "      <td>57</td>\n",
       "      <td>277348</td>\n",
       "      <td>0.190720</td>\n",
       "      <td>0.777578</td>\n",
       "      <td>0.830479</td>\n",
       "      <td>-3.933896</td>\n",
       "      <td>0.650149</td>\n",
       "      <td>0.169323</td>\n",
       "      <td>0.222488</td>\n",
       "      <td>0.226030</td>\n",
       "      <td>120</td>\n",
       "      <td>0.0</td>\n",
       "      <td>0.0</td>\n",
       "      <td>0.0</td>\n",
       "      <td>0.0</td>\n",
       "      <td>0.0</td>\n",
       "      <td>0.0</td>\n",
       "      <td>0.0</td>\n",
       "      <td>0.0</td>\n",
       "      <td>0.0</td>\n",
       "      <td>0.0</td>\n",
       "      <td>0.0</td>\n",
       "      <td>0.0</td>\n",
       "      <td>0.0</td>\n",
       "      <td>0.0</td>\n",
       "      <td>0.0</td>\n",
       "      <td>0.0</td>\n",
       "      <td>0.0</td>\n",
       "      <td>0.0</td>\n",
       "      <td>0.0</td>\n",
       "      <td>0.0</td>\n",
       "      <td>1.0</td>\n",
       "      <td>0</td>\n",
       "      <td>35206.970466</td>\n",
       "      <td>15.167407</td>\n",
       "      <td>-16.097608</td>\n",
       "      <td>-4.069444</td>\n",
       "      <td>-0.008173</td>\n",
       "    </tr>\n",
       "  </tbody>\n",
       "</table>\n",
       "</div>"
      ],
      "text/plain": [
       "   index  genre  popularity  duration_ms  acousticness  positiveness  danceability  loudness    energy  liveness  speechiness  instrumentalness  tempo_int  region_A  region_B  region_C  region_D  region_E  region_F  region_G  region_H  region_I  region_J  region_K  region_L  region_M  region_N  region_O  region_P  region_Q  region_R  region_S  region_T  unknown  duration_long          PCA1       PCA2       PCA3      PCA4      PCA5\n",
       "0      0   10.0          11       201094      0.112811      0.157247      0.187841 -1.884852  0.893918  0.363568     0.390108          0.888884        152       0.0       0.0       0.0       0.0       0.0       0.0       0.0       1.0       0.0       0.0       0.0       0.0       0.0       0.0       0.0       0.0       0.0       0.0       0.0       0.0      0.0              0 -41047.028616 -18.457388  30.293345 -5.422681 -0.104217\n",
       "1      1    8.0          69       308493      0.101333      0.346563      0.554444 -5.546495  0.874409  0.193892     0.161497          0.123910        176       0.0       0.0       0.0       0.0       0.0       0.0       0.0       0.0       1.0       0.0       0.0       0.0       0.0       0.0       0.0       0.0       0.0       0.0       0.0       0.0      0.0              0  66351.971231 -40.207097 -28.864875 -1.711876  0.778478\n",
       "2      2    3.0          43       197225      0.496420      0.265391      0.457642 -9.255670  0.439933  0.217146     0.369057          0.166470         76       0.0       0.0       0.0       0.0       1.0       0.0       0.0       0.0       0.0       0.0       0.0       0.0       0.0       0.0       0.0       0.0       0.0       0.0       0.0       0.0      0.0              0 -44916.030091  57.856874  -1.052937  0.660017 -0.671912\n",
       "3      3   10.0          45       301092      0.165667      0.245533      0.356578 -5.088788  0.868704  0.377025     0.226677          0.175399        192       0.0       0.0       1.0       0.0       0.0       0.0       0.0       0.0       0.0       0.0       0.0       0.0       0.0       0.0       0.0       0.0       0.0       0.0       0.0       0.0      0.0              0  58950.971693 -56.536491  -4.939926 -1.791299 -0.026038\n",
       "4      4    3.0          57       277348      0.190720      0.777578      0.830479 -3.933896  0.650149  0.169323     0.222488          0.226030        120       0.0       0.0       0.0       0.0       0.0       0.0       0.0       0.0       0.0       0.0       0.0       0.0       0.0       0.0       0.0       0.0       0.0       0.0       0.0       0.0      1.0              0  35206.970466  15.167407 -16.097608 -4.069444 -0.008173"
      ]
     },
     "execution_count": 6,
     "metadata": {},
     "output_type": "execute_result"
    }
   ],
   "source": [
    "df_train.head()"
   ]
  },
  {
   "cell_type": "code",
   "execution_count": 7,
   "metadata": {},
   "outputs": [
    {
     "name": "stdout",
     "output_type": "stream",
     "text": [
      "<class 'pandas.core.frame.DataFrame'>\n",
      "RangeIndex: 4046 entries, 0 to 4045\n",
      "Data columns (total 40 columns):\n",
      " #   Column            Non-Null Count  Dtype  \n",
      "---  ------            --------------  -----  \n",
      " 0   index             4046 non-null   int64  \n",
      " 1   genre             4046 non-null   float64\n",
      " 2   popularity        4046 non-null   int64  \n",
      " 3   duration_ms       4046 non-null   int64  \n",
      " 4   acousticness      4046 non-null   float64\n",
      " 5   positiveness      4046 non-null   float64\n",
      " 6   danceability      4046 non-null   float64\n",
      " 7   loudness          4046 non-null   float64\n",
      " 8   energy            4046 non-null   float64\n",
      " 9   liveness          4046 non-null   float64\n",
      " 10  speechiness       4046 non-null   float64\n",
      " 11  instrumentalness  4046 non-null   float64\n",
      " 12  tempo_int         4046 non-null   int64  \n",
      " 13  region_A          4046 non-null   float64\n",
      " 14  region_B          4046 non-null   float64\n",
      " 15  region_C          4046 non-null   float64\n",
      " 16  region_D          4046 non-null   float64\n",
      " 17  region_E          4046 non-null   float64\n",
      " 18  region_F          4046 non-null   float64\n",
      " 19  region_G          4046 non-null   float64\n",
      " 20  region_H          4046 non-null   float64\n",
      " 21  region_I          4046 non-null   float64\n",
      " 22  region_J          4046 non-null   float64\n",
      " 23  region_K          4046 non-null   float64\n",
      " 24  region_L          4046 non-null   float64\n",
      " 25  region_M          4046 non-null   float64\n",
      " 26  region_N          4046 non-null   float64\n",
      " 27  region_O          4046 non-null   float64\n",
      " 28  region_P          4046 non-null   float64\n",
      " 29  region_Q          4046 non-null   float64\n",
      " 30  region_R          4046 non-null   float64\n",
      " 31  region_S          4046 non-null   float64\n",
      " 32  region_T          4046 non-null   float64\n",
      " 33  unknown           4046 non-null   float64\n",
      " 34  duration_long     4046 non-null   int64  \n",
      " 35  PCA1              4046 non-null   float64\n",
      " 36  PCA2              4046 non-null   float64\n",
      " 37  PCA3              4046 non-null   float64\n",
      " 38  PCA4              4046 non-null   float64\n",
      " 39  PCA5              4046 non-null   float64\n",
      "dtypes: float64(35), int64(5)\n",
      "memory usage: 1.2 MB\n"
     ]
    }
   ],
   "source": [
    "df_train.info()"
   ]
  },
  {
   "cell_type": "markdown",
   "metadata": {},
   "source": [
    "## Stacking Setting"
   ]
  },
  {
   "cell_type": "code",
   "execution_count": 8,
   "metadata": {},
   "outputs": [
    {
     "name": "stdout",
     "output_type": "stream",
     "text": [
      "stacking is not setting.\n"
     ]
    }
   ],
   "source": [
    "if Config.stacking_NB is False:\n",
    "    print('stacking is not setting.')\n",
    "else:\n",
    "    for i in Config.stacking_NB:\n",
    "        df_train_NB =  pd.read_csv(Config.interim_dir + f'nb{i}.csv')\n",
    "        df_test_NB =  pd.read_csv(Config.submission_dir + f'nb{i}.csv')\n",
    "\n",
    "        df_train[f'nb{i}'] = df_train_NB[f'nb{i}']\n",
    "\n",
    "        df_test = df_test.reset_index()\n",
    "        df_test[f'nb{i}'] = df_test_NB[Config.target]\n",
    "        df_test = df_test.set_index('index')\n",
    "\n",
    "    df_test"
   ]
  },
  {
   "cell_type": "markdown",
   "metadata": {},
   "source": [
    "## Training"
   ]
  },
  {
   "cell_type": "code",
   "execution_count": 9,
   "metadata": {},
   "outputs": [],
   "source": [
    "def seed_everything(seed):\n",
    "\n",
    "    random.seed(seed)\n",
    "    np.random.seed(seed)\n",
    "    os.environ['PYTHONHASHSEED'] = str(seed)"
   ]
  },
  {
   "cell_type": "code",
   "execution_count": 35,
   "metadata": {},
   "outputs": [],
   "source": [
    "# Get feature list\n",
    "features = [col for col in df_train.columns if col not in [Config.row_id, Config.target]]\n",
    "\n",
    "# Get parameter list\n",
    "params = {\n",
    "    'boosting_type': 'gbdt',\n",
    "    'objective': 'multiclass',\n",
    "    'num_class': 11,\n",
    "    'metric': 'multi_logloss',\n",
    "    'seed': Config.random_seed,\n",
    "    'n_estimators': 20000,\n",
    "    'max_depth': -1,\n",
    "    'num_leaves': 16,\n",
    "    'learning_rate': 0.01,\n",
    "    #'feature_fraction': 0.20,\n",
    "    #'bagging_freq': 10,\n",
    "    'bagging_fraction': 0.95,\n",
    "    'n_jobs': -1,\n",
    "    #'lambda_l2': 2,\n",
    "    'min_data_in_leaf': 5,\n",
    "}\n",
    "\n",
    "callbacks = [lgb.early_stopping(50), lgb.log_evaluation(50)]\n",
    "\n",
    "# Down Sampling ratio\n",
    "down_sampling_ratio = 1"
   ]
  },
  {
   "cell_type": "code",
   "execution_count": 36,
   "metadata": {},
   "outputs": [
    {
     "name": "stdout",
     "output_type": "stream",
     "text": [
      " \n",
      "--------------------------------------------------\n",
      "Training fold 1 with 38 features...\n",
      "X_train : 325\n",
      "[LightGBM] [Warning] Auto-choosing col-wise multi-threading, the overhead of testing was 0.000465 seconds.\n",
      "You can set `force_col_wise=true` to remove the overhead.\n",
      "[LightGBM] [Info] Total Bins 1600\n",
      "[LightGBM] [Info] Number of data points in the train set: 325, number of used features: 30\n",
      "[LightGBM] [Info] Start training from score -2.564949\n",
      "[LightGBM] [Info] Start training from score -2.564949\n",
      "[LightGBM] [Info] Start training from score -2.564949\n",
      "[LightGBM] [Info] Start training from score -2.564949\n",
      "[LightGBM] [Info] Start training from score -2.564949\n",
      "[LightGBM] [Info] Start training from score -2.564949\n",
      "[LightGBM] [Info] Start training from score -2.564949\n",
      "[LightGBM] [Info] Start training from score -2.564949\n",
      "[LightGBM] [Info] Start training from score -1.871802\n",
      "[LightGBM] [Info] Start training from score -2.564949\n",
      "[LightGBM] [Info] Start training from score -1.871802\n",
      "[LightGBM] [Warning] No further splits with positive gain, best gain: -inf\n",
      "[LightGBM] [Warning] No further splits with positive gain, best gain: -inf\n",
      "[LightGBM] [Warning] No further splits with positive gain, best gain: -inf\n",
      "[LightGBM] [Warning] No further splits with positive gain, best gain: -inf\n",
      "[LightGBM] [Warning] No further splits with positive gain, best gain: -inf\n",
      "Training until validation scores don't improve for 50 rounds\n",
      "[50]\ttrain's multi_logloss: 0.939455\tvalid's multi_logloss: 1.83213\n",
      "[100]\ttrain's multi_logloss: 0.453294\tvalid's multi_logloss: 1.72371\n",
      "[150]\ttrain's multi_logloss: 0.22465\tvalid's multi_logloss: 1.69863\n",
      "Early stopping, best iteration is:\n",
      "[139]\ttrain's multi_logloss: 0.261818\tvalid's multi_logloss: 1.69727\n",
      "================================== training 1 fin. ==================================\n",
      "================================== validation-data predicting ... ==================================\n",
      "================================== test-data predicting ... ==================================\n",
      "Fold 1 CV result\n",
      "metric : 0.346901129567044\n",
      " \n",
      "--------------------------------------------------\n",
      "Training fold 2 with 38 features...\n",
      "X_train : 338\n",
      "[LightGBM] [Warning] Auto-choosing col-wise multi-threading, the overhead of testing was 0.000078 seconds.\n",
      "You can set `force_col_wise=true` to remove the overhead.\n",
      "[LightGBM] [Info] Total Bins 1658\n",
      "[LightGBM] [Info] Number of data points in the train set: 338, number of used features: 30\n",
      "[LightGBM] [Info] Start training from score -2.564949\n",
      "[LightGBM] [Info] Start training from score -2.564949\n",
      "[LightGBM] [Info] Start training from score -2.564949\n",
      "[LightGBM] [Info] Start training from score -2.564949\n",
      "[LightGBM] [Info] Start training from score -2.564949\n",
      "[LightGBM] [Info] Start training from score -2.564949\n",
      "[LightGBM] [Info] Start training from score -2.564949\n",
      "[LightGBM] [Info] Start training from score -2.564949\n",
      "[LightGBM] [Info] Start training from score -1.871802\n",
      "[LightGBM] [Info] Start training from score -2.564949\n",
      "[LightGBM] [Info] Start training from score -1.871802\n",
      "[LightGBM] [Warning] No further splits with positive gain, best gain: -inf\n",
      "[LightGBM] [Warning] No further splits with positive gain, best gain: -inf\n",
      "[LightGBM] [Warning] No further splits with positive gain, best gain: -inf\n",
      "[LightGBM] [Warning] No further splits with positive gain, best gain: -inf\n",
      "[LightGBM] [Warning] No further splits with positive gain, best gain: -inf\n",
      "[50]\ttrain's multi_logloss: 0.930334\tvalid's multi_logloss: 1.742\n",
      "[100]\ttrain's multi_logloss: 0.439763\tvalid's multi_logloss: 1.65708\n",
      "[150]\ttrain's multi_logloss: 0.214824\tvalid's multi_logloss: 1.6586\n",
      "Early stopping, best iteration is:\n",
      "[117]\ttrain's multi_logloss: 0.343207\tvalid's multi_logloss: 1.65259\n",
      "================================== training 2 fin. ==================================\n",
      "================================== validation-data predicting ... ==================================\n",
      "================================== test-data predicting ... ==================================\n",
      "Fold 2 CV result\n",
      "metric : 0.3484235704715243\n",
      " \n",
      "--------------------------------------------------\n",
      "Training fold 3 with 38 features...\n",
      "X_train : 338\n",
      "[LightGBM] [Warning] Auto-choosing col-wise multi-threading, the overhead of testing was 0.000325 seconds.\n",
      "You can set `force_col_wise=true` to remove the overhead.\n",
      "[LightGBM] [Info] Total Bins 1661\n",
      "[LightGBM] [Info] Number of data points in the train set: 338, number of used features: 30\n",
      "[LightGBM] [Info] Start training from score -2.564949\n",
      "[LightGBM] [Info] Start training from score -2.564949\n",
      "[LightGBM] [Info] Start training from score -2.564949\n",
      "[LightGBM] [Info] Start training from score -2.564949\n",
      "[LightGBM] [Info] Start training from score -2.564949\n",
      "[LightGBM] [Info] Start training from score -2.564949\n",
      "[LightGBM] [Info] Start training from score -2.564949\n",
      "[LightGBM] [Info] Start training from score -2.564949\n",
      "[LightGBM] [Info] Start training from score -1.871802\n",
      "[LightGBM] [Info] Start training from score -2.564949\n",
      "[LightGBM] [Info] Start training from score -1.871802\n",
      "[LightGBM] [Warning] No further splits with positive gain, best gain: -inf\n",
      "[LightGBM] [Warning] No further splits with positive gain, best gain: -inf\n",
      "[LightGBM] [Warning] No further splits with positive gain, best gain: -inf\n",
      "[LightGBM] [Warning] No further splits with positive gain, best gain: -inf\n",
      "[50]\ttrain's multi_logloss: 0.928267\tvalid's multi_logloss: 1.7409\n",
      "[100]\ttrain's multi_logloss: 0.435909\tvalid's multi_logloss: 1.64194\n",
      "[150]\ttrain's multi_logloss: 0.210534\tvalid's multi_logloss: 1.60404\n",
      "[200]\ttrain's multi_logloss: 0.103742\tvalid's multi_logloss: 1.6267\n",
      "Early stopping, best iteration is:\n",
      "[150]\ttrain's multi_logloss: 0.210534\tvalid's multi_logloss: 1.60404\n",
      "================================== training 3 fin. ==================================\n",
      "================================== validation-data predicting ... ==================================\n",
      "================================== test-data predicting ... ==================================\n",
      "Fold 3 CV result\n",
      "metric : 0.37679947002252234\n",
      " \n",
      "--------------------------------------------------\n",
      "Training fold 4 with 38 features...\n",
      "X_train : 338\n",
      "[LightGBM] [Warning] Auto-choosing col-wise multi-threading, the overhead of testing was 0.000296 seconds.\n",
      "You can set `force_col_wise=true` to remove the overhead.\n",
      "[LightGBM] [Info] Total Bins 1665\n",
      "[LightGBM] [Info] Number of data points in the train set: 338, number of used features: 30\n",
      "[LightGBM] [Info] Start training from score -2.564949\n",
      "[LightGBM] [Info] Start training from score -2.564949\n",
      "[LightGBM] [Info] Start training from score -2.564949\n",
      "[LightGBM] [Info] Start training from score -2.564949\n",
      "[LightGBM] [Info] Start training from score -2.564949\n",
      "[LightGBM] [Info] Start training from score -2.564949\n",
      "[LightGBM] [Info] Start training from score -2.564949\n",
      "[LightGBM] [Info] Start training from score -2.564949\n",
      "[LightGBM] [Info] Start training from score -1.871802\n",
      "[LightGBM] [Info] Start training from score -2.564949\n",
      "[LightGBM] [Info] Start training from score -1.871802\n",
      "[LightGBM] [Warning] No further splits with positive gain, best gain: -inf\n",
      "[LightGBM] [Warning] No further splits with positive gain, best gain: -inf\n",
      "[LightGBM] [Warning] No further splits with positive gain, best gain: -inf\n",
      "[LightGBM] [Warning] No further splits with positive gain, best gain: -inf\n",
      "[LightGBM] [Warning] No further splits with positive gain, best gain: -inf\n",
      "[50]\ttrain's multi_logloss: 0.916689\tvalid's multi_logloss: 1.74649\n",
      "[100]\ttrain's multi_logloss: 0.424899\tvalid's multi_logloss: 1.66014\n",
      "[150]\ttrain's multi_logloss: 0.205067\tvalid's multi_logloss: 1.64718\n",
      "[200]\ttrain's multi_logloss: 0.102194\tvalid's multi_logloss: 1.66825\n",
      "Early stopping, best iteration is:\n",
      "[150]\ttrain's multi_logloss: 0.210534\tvalid's multi_logloss: 1.60404\n",
      "================================== training 4 fin. ==================================\n",
      "================================== validation-data predicting ... ==================================\n",
      "================================== test-data predicting ... ==================================\n",
      "Fold 4 CV result\n",
      "metric : 0.4104814874612604\n",
      " \n",
      "--------------------------------------------------\n",
      "Training fold 5 with 38 features...\n",
      "X_train : 325\n",
      "[LightGBM] [Warning] Auto-choosing col-wise multi-threading, the overhead of testing was 0.000081 seconds.\n",
      "You can set `force_col_wise=true` to remove the overhead.\n",
      "[LightGBM] [Info] Total Bins 1594\n",
      "[LightGBM] [Info] Number of data points in the train set: 325, number of used features: 30\n",
      "[LightGBM] [Info] Start training from score -2.564949\n",
      "[LightGBM] [Info] Start training from score -2.564949\n",
      "[LightGBM] [Info] Start training from score -2.564949\n",
      "[LightGBM] [Info] Start training from score -2.564949\n",
      "[LightGBM] [Info] Start training from score -2.564949\n",
      "[LightGBM] [Info] Start training from score -2.564949\n",
      "[LightGBM] [Info] Start training from score -2.564949\n",
      "[LightGBM] [Info] Start training from score -2.564949\n",
      "[LightGBM] [Info] Start training from score -1.871802\n",
      "[LightGBM] [Info] Start training from score -2.564949\n",
      "[LightGBM] [Info] Start training from score -1.871802\n",
      "[LightGBM] [Warning] No further splits with positive gain, best gain: -inf\n",
      "[LightGBM] [Warning] No further splits with positive gain, best gain: -inf\n",
      "[LightGBM] [Warning] No further splits with positive gain, best gain: -inf\n",
      "[LightGBM] [Warning] No further splits with positive gain, best gain: -inf\n",
      "[LightGBM] [Warning] No further splits with positive gain, best gain: -inf\n",
      "[50]\ttrain's multi_logloss: 0.924307\tvalid's multi_logloss: 1.71362\n",
      "[100]\ttrain's multi_logloss: 0.434587\tvalid's multi_logloss: 1.60696\n",
      "[150]\ttrain's multi_logloss: 0.212463\tvalid's multi_logloss: 1.57381\n",
      "[200]\ttrain's multi_logloss: 0.105836\tvalid's multi_logloss: 1.57783\n",
      "Early stopping, best iteration is:\n",
      "[157]\ttrain's multi_logloss: 0.192538\tvalid's multi_logloss: 1.57184\n",
      "================================== training 5 fin. ==================================\n",
      "================================== validation-data predicting ... ==================================\n",
      "================================== test-data predicting ... ==================================\n",
      "Fold 5 CV result\n",
      "metric : 0.3864847576688016\n",
      " \n",
      "--------------------------------------------------\n",
      "TOTAL socre : 0.37201762642008823\n",
      "--------------------------------------------------\n"
     ]
    }
   ],
   "source": [
    "# 約10秒\n",
    "\n",
    "# Create a numpy array to store test predictions\n",
    "test_predictions = np.zeros((len(df_test), Config.n_folds))\n",
    "\n",
    "# Create a numpy array to store out of folds predictions\n",
    "oof_predictions = np.zeros(len(df_train))\n",
    "\n",
    "feature_importance_df = pd.DataFrame(index=features)\n",
    "y_valids, val_preds =[],[]\n",
    "\n",
    "kfold = StratifiedKFold(n_splits=Config.n_folds, shuffle=True, random_state=Config.random_seed)\n",
    "\n",
    "for fold, (train_idx, valid_idx) in enumerate(kfold.split(df_train, df_train[Config.target])):\n",
    "\n",
    "    print(' ')\n",
    "    print('-'*50)\n",
    "    print(f'Training fold {fold+1} with {len(features)} features...')\n",
    "\n",
    "    X_train, X_val = df_train[features].iloc[train_idx], df_train[features].iloc[valid_idx]\n",
    "    y_train, y_val = df_train[Config.target].iloc[train_idx], df_train[Config.target].iloc[valid_idx]\n",
    "\n",
    "    # Down Sampling\n",
    "    base_count = y_train.value_counts().sort_index()\n",
    "    base_count_min = base_count.min()\n",
    "    sampling_strategy = {\n",
    "        0: int(min(base_count[0], base_count_min * down_sampling_ratio)),\n",
    "        1: int(min(base_count[1], base_count_min * down_sampling_ratio)),\n",
    "        2: int(min(base_count[2], base_count_min * down_sampling_ratio)),\n",
    "        3: int(min(base_count[3], base_count_min * down_sampling_ratio)),\n",
    "        4: int(min(base_count[4], base_count_min * down_sampling_ratio)),\n",
    "        5: int(min(base_count[5], base_count_min * down_sampling_ratio)),\n",
    "        6: int(min(base_count[6], base_count_min * down_sampling_ratio)),\n",
    "        7: int(min(base_count[7], base_count_min * down_sampling_ratio)),\n",
    "        8: int(min(base_count[8], base_count_min * down_sampling_ratio * 2)),\n",
    "        9: int(min(base_count[9], base_count_min * down_sampling_ratio)),\n",
    "        10: int(min(base_count[10], base_count_min * down_sampling_ratio * 2)),\n",
    "        }\n",
    "\n",
    "    sampler = RandomUnderSampler(random_state=Config.random_seed, replacement=True, sampling_strategy=sampling_strategy)\n",
    "    X_train, y_train = sampler.fit_resample(X_train, y_train)\n",
    "\n",
    "    print(f'X_train : {len(X_train)}')\n",
    "\n",
    "    lgb_train = lgb.Dataset(X_train, y_train)\n",
    "    lgb_valid = lgb.Dataset(X_val, y_val)\n",
    "\n",
    "    model = lgb.train(params=params, train_set=lgb_train, valid_sets=[lgb_train, lgb_valid], valid_names=['train', 'valid'], callbacks=callbacks)\n",
    "    print(f'================================== training {fold+1} fin. ==================================')\n",
    "\n",
    "    # Predict validation data\n",
    "    print(f'================================== validation-data predicting ... ==================================')\n",
    "    val_pred = model.predict(X_val, num_iteration=model.best_iteration)\n",
    "    val_pred = np.argmax(val_pred, axis=1)\n",
    "    oof_predictions[valid_idx] = val_pred\n",
    "\n",
    "    # Predict test data\n",
    "    print(f'================================== test-data predicting ... ==================================')\n",
    "    test_pred = model.predict(df_test[features], num_iteration=model.best_iteration)\n",
    "    test_pred = np.argmax(test_pred, axis=1)\n",
    "\n",
    "    test_predictions[:, fold] += test_pred\n",
    "\n",
    "    # save results\n",
    "    y_valids.append(y_val)\n",
    "    val_preds.append(val_pred)\n",
    "    feature_importance_df[\"Importance_Fold\"+str(fold+1)]=model.feature_importance(importance_type='gain')\n",
    "\n",
    "    # Compute fold metric\n",
    "    val_pred = pd.DataFrame(data={'prediction': val_pred})\n",
    "    y_val = pd.DataFrame(data={'target': y_val.reset_index(drop=True)})\n",
    "    score = f1_score(y_val, val_pred, average='macro')\n",
    "\n",
    "    print(f'Fold {fold+1} CV result')\n",
    "    print(f'metric : {score}')\n",
    "\n",
    "    del X_train, X_val, y_train, y_val, lgb_train, lgb_valid\n",
    "    _ = gc.collect()\n",
    "\n",
    "# Compute out of folds metric\n",
    "oof_predictions = pd.DataFrame(data={'prediction': oof_predictions})\n",
    "y_true = pd.DataFrame(data={Config.target: df_train[Config.target]})\n",
    "\n",
    "print(' ')\n",
    "print('-'*50)\n",
    "print(f'TOTAL socre : {f1_score(df_train[Config.target], oof_predictions[\"prediction\"], average=\"macro\")}')\n",
    "print('-'*50)\n",
    "\n",
    "# Create a dataframe to store out of folds predictions\n",
    "oof_df = pd.DataFrame({Config.row_id: df_train[Config.row_id], Config.target: df_train[Config.target], 'prediction': oof_predictions['prediction']})\n",
    "\n",
    "# Create a dataframe to store test prediction\n",
    "\n",
    "\n",
    "test_predictions, _ = stats.mode(test_predictions, axis=1)\n",
    "test_predictions = test_predictions.reshape(-1)\n",
    "\n",
    "test_df = pd.DataFrame({Config.row_id: df_test[Config.row_id], Config.target: test_predictions})"
   ]
  },
  {
   "cell_type": "code",
   "execution_count": 27,
   "metadata": {},
   "outputs": [
    {
     "data": {
      "text/html": [
       "<div>\n",
       "<style scoped>\n",
       "    .dataframe tbody tr th:only-of-type {\n",
       "        vertical-align: middle;\n",
       "    }\n",
       "\n",
       "    .dataframe tbody tr th {\n",
       "        vertical-align: top;\n",
       "    }\n",
       "\n",
       "    .dataframe thead th {\n",
       "        text-align: right;\n",
       "    }\n",
       "</style>\n",
       "<table border=\"1\" class=\"dataframe\">\n",
       "  <thead>\n",
       "    <tr style=\"text-align: right;\">\n",
       "      <th></th>\n",
       "      <th>index</th>\n",
       "      <th>genre</th>\n",
       "      <th>prediction</th>\n",
       "    </tr>\n",
       "  </thead>\n",
       "  <tbody>\n",
       "    <tr>\n",
       "      <th>0</th>\n",
       "      <td>0</td>\n",
       "      <td>10.0</td>\n",
       "      <td>10.0</td>\n",
       "    </tr>\n",
       "    <tr>\n",
       "      <th>1</th>\n",
       "      <td>1</td>\n",
       "      <td>8.0</td>\n",
       "      <td>10.0</td>\n",
       "    </tr>\n",
       "    <tr>\n",
       "      <th>2</th>\n",
       "      <td>2</td>\n",
       "      <td>3.0</td>\n",
       "      <td>8.0</td>\n",
       "    </tr>\n",
       "    <tr>\n",
       "      <th>3</th>\n",
       "      <td>3</td>\n",
       "      <td>10.0</td>\n",
       "      <td>10.0</td>\n",
       "    </tr>\n",
       "    <tr>\n",
       "      <th>4</th>\n",
       "      <td>4</td>\n",
       "      <td>3.0</td>\n",
       "      <td>2.0</td>\n",
       "    </tr>\n",
       "  </tbody>\n",
       "</table>\n",
       "</div>"
      ],
      "text/plain": [
       "   index  genre  prediction\n",
       "0      0   10.0        10.0\n",
       "1      1    8.0        10.0\n",
       "2      2    3.0         8.0\n",
       "3      3   10.0        10.0\n",
       "4      4    3.0         2.0"
      ]
     },
     "execution_count": 27,
     "metadata": {},
     "output_type": "execute_result"
    }
   ],
   "source": [
    "oof_df.head()"
   ]
  },
  {
   "cell_type": "code",
   "execution_count": 28,
   "metadata": {},
   "outputs": [
    {
     "data": {
      "text/html": [
       "<div>\n",
       "<style scoped>\n",
       "    .dataframe tbody tr th:only-of-type {\n",
       "        vertical-align: middle;\n",
       "    }\n",
       "\n",
       "    .dataframe tbody tr th {\n",
       "        vertical-align: top;\n",
       "    }\n",
       "\n",
       "    .dataframe thead th {\n",
       "        text-align: right;\n",
       "    }\n",
       "</style>\n",
       "<table border=\"1\" class=\"dataframe\">\n",
       "  <thead>\n",
       "    <tr style=\"text-align: right;\">\n",
       "      <th></th>\n",
       "      <th>index</th>\n",
       "      <th>nb203</th>\n",
       "    </tr>\n",
       "  </thead>\n",
       "  <tbody>\n",
       "    <tr>\n",
       "      <th>0</th>\n",
       "      <td>0</td>\n",
       "      <td>10.0</td>\n",
       "    </tr>\n",
       "    <tr>\n",
       "      <th>1</th>\n",
       "      <td>1</td>\n",
       "      <td>10.0</td>\n",
       "    </tr>\n",
       "    <tr>\n",
       "      <th>2</th>\n",
       "      <td>2</td>\n",
       "      <td>8.0</td>\n",
       "    </tr>\n",
       "    <tr>\n",
       "      <th>3</th>\n",
       "      <td>3</td>\n",
       "      <td>10.0</td>\n",
       "    </tr>\n",
       "    <tr>\n",
       "      <th>4</th>\n",
       "      <td>4</td>\n",
       "      <td>2.0</td>\n",
       "    </tr>\n",
       "    <tr>\n",
       "      <th>...</th>\n",
       "      <td>...</td>\n",
       "      <td>...</td>\n",
       "    </tr>\n",
       "    <tr>\n",
       "      <th>4041</th>\n",
       "      <td>4041</td>\n",
       "      <td>10.0</td>\n",
       "    </tr>\n",
       "    <tr>\n",
       "      <th>4042</th>\n",
       "      <td>4042</td>\n",
       "      <td>7.0</td>\n",
       "    </tr>\n",
       "    <tr>\n",
       "      <th>4043</th>\n",
       "      <td>4043</td>\n",
       "      <td>8.0</td>\n",
       "    </tr>\n",
       "    <tr>\n",
       "      <th>4044</th>\n",
       "      <td>4044</td>\n",
       "      <td>10.0</td>\n",
       "    </tr>\n",
       "    <tr>\n",
       "      <th>4045</th>\n",
       "      <td>4045</td>\n",
       "      <td>3.0</td>\n",
       "    </tr>\n",
       "  </tbody>\n",
       "</table>\n",
       "<p>4046 rows × 2 columns</p>\n",
       "</div>"
      ],
      "text/plain": [
       "      index  nb203\n",
       "0         0   10.0\n",
       "1         1   10.0\n",
       "2         2    8.0\n",
       "3         3   10.0\n",
       "4         4    2.0\n",
       "...     ...    ...\n",
       "4041   4041   10.0\n",
       "4042   4042    7.0\n",
       "4043   4043    8.0\n",
       "4044   4044   10.0\n",
       "4045   4045    3.0\n",
       "\n",
       "[4046 rows x 2 columns]"
      ]
     },
     "execution_count": 28,
     "metadata": {},
     "output_type": "execute_result"
    }
   ],
   "source": [
    "# Save results\n",
    "oof_df_tmp = oof_df.drop(columns=[Config.target])\n",
    "oof_df_tmp.columns = [Config.row_id, f'nb{Config.NB}']\n",
    "oof_df_tmp.to_csv(Config.interim_dir + f'nb{Config.NB}.csv', index=False)\n",
    "oof_df_tmp"
   ]
  },
  {
   "cell_type": "code",
   "execution_count": 29,
   "metadata": {},
   "outputs": [
    {
     "data": {
      "application/vnd.plotly.v1+json": {
       "config": {
        "plotlyServerURL": "https://plot.ly"
       },
       "data": [
        {
         "colorscale": [
          [
           0,
           "#0d0887"
          ],
          [
           0.1111111111111111,
           "#46039f"
          ],
          [
           0.2222222222222222,
           "#7201a8"
          ],
          [
           0.3333333333333333,
           "#9c179e"
          ],
          [
           0.4444444444444444,
           "#bd3786"
          ],
          [
           0.5555555555555556,
           "#d8576b"
          ],
          [
           0.6666666666666666,
           "#ed7953"
          ],
          [
           0.7777777777777778,
           "#fb9f3a"
          ],
          [
           0.8888888888888888,
           "#fdca26"
          ],
          [
           1,
           "#f0f921"
          ]
         ],
         "reversescale": false,
         "showscale": false,
         "type": "heatmap",
         "x": [
          "Target_0",
          "Target_1",
          "Target_2",
          "Target_3",
          "Target_4",
          "Target_5",
          "Target_6",
          "Target_7",
          "Target_8",
          "Target_9",
          "Target_10"
         ],
         "y": [
          "Target_0",
          "Target_1",
          "Target_2",
          "Target_3",
          "Target_4",
          "Target_5",
          "Target_6",
          "Target_7",
          "Target_8",
          "Target_9",
          "Target_10"
         ],
         "z": [
          [
           0.5,
           0.03125,
           0.09375,
           0,
           0,
           0,
           0,
           0,
           0.1875,
           0.125,
           0.0625
          ],
          [
           0,
           0.23902439024390243,
           0.02926829268292683,
           0.06341463414634146,
           0.00975609756097561,
           0.01951219512195122,
           0.00975609756097561,
           0.04878048780487805,
           0.23414634146341465,
           0.01951219512195122,
           0.32682926829268294
          ],
          [
           0.005235602094240838,
           0.041884816753926704,
           0.3612565445026178,
           0.07853403141361257,
           0,
           0.031413612565445025,
           0.015706806282722512,
           0.11518324607329843,
           0.1518324607329843,
           0,
           0.19895287958115182
          ],
          [
           0,
           0.04143646408839779,
           0.027624309392265192,
           0.569060773480663,
           0.0027624309392265192,
           0.052486187845303865,
           0,
           0.049723756906077346,
           0.1712707182320442,
           0.0055248618784530384,
           0.08011049723756906
          ],
          [
           0,
           0.022222222222222223,
           0.022222222222222223,
           0.044444444444444446,
           0.6444444444444445,
           0.022222222222222223,
           0.022222222222222223,
           0.022222222222222223,
           0.2,
           0,
           0
          ],
          [
           0,
           0.023809523809523808,
           0.031746031746031744,
           0.09523809523809523,
           0,
           0.49206349206349204,
           0,
           0.0873015873015873,
           0.16666666666666666,
           0,
           0.10317460317460317
          ],
          [
           0.02,
           0.06,
           0.18,
           0.04,
           0.02,
           0,
           0.18,
           0.1,
           0.2,
           0.04,
           0.16
          ],
          [
           0,
           0.017964071856287425,
           0.038922155688622756,
           0.020958083832335328,
           0.005988023952095809,
           0.10179640718562874,
           0.011976047904191617,
           0.4550898203592814,
           0.23952095808383234,
           0,
           0.10778443113772455
          ],
          [
           0.0038314176245210726,
           0.037547892720306515,
           0.027586206896551724,
           0.038314176245210725,
           0.007662835249042145,
           0.038314176245210725,
           0.012260536398467433,
           0.1103448275862069,
           0.5647509578544061,
           0.006130268199233717,
           0.1532567049808429
          ],
          [
           0.01694915254237288,
           0,
           0.01694915254237288,
           0.03389830508474576,
           0,
           0.01694915254237288,
           0,
           0,
           0.05084745762711865,
           0.8135593220338984,
           0.05084745762711865
          ],
          [
           0,
           0.05609573672400898,
           0.035153328347045626,
           0.018698578908002993,
           0.0014958863126402393,
           0.02916978309648467,
           0.008975317875841436,
           0.059087509349289455,
           0.1824981301421092,
           0.004487658937920718,
           0.6043380703066566
          ]
         ]
        }
       ],
       "layout": {
        "annotations": [
         {
          "font": {
           "color": "#000000"
          },
          "showarrow": false,
          "text": "0.5",
          "x": "Target_0",
          "xref": "x",
          "y": "Target_0",
          "yref": "y"
         },
         {
          "font": {
           "color": "#FFFFFF"
          },
          "showarrow": false,
          "text": "0.03125",
          "x": "Target_1",
          "xref": "x",
          "y": "Target_0",
          "yref": "y"
         },
         {
          "font": {
           "color": "#FFFFFF"
          },
          "showarrow": false,
          "text": "0.09375",
          "x": "Target_2",
          "xref": "x",
          "y": "Target_0",
          "yref": "y"
         },
         {
          "font": {
           "color": "#FFFFFF"
          },
          "showarrow": false,
          "text": "0.0",
          "x": "Target_3",
          "xref": "x",
          "y": "Target_0",
          "yref": "y"
         },
         {
          "font": {
           "color": "#FFFFFF"
          },
          "showarrow": false,
          "text": "0.0",
          "x": "Target_4",
          "xref": "x",
          "y": "Target_0",
          "yref": "y"
         },
         {
          "font": {
           "color": "#FFFFFF"
          },
          "showarrow": false,
          "text": "0.0",
          "x": "Target_5",
          "xref": "x",
          "y": "Target_0",
          "yref": "y"
         },
         {
          "font": {
           "color": "#FFFFFF"
          },
          "showarrow": false,
          "text": "0.0",
          "x": "Target_6",
          "xref": "x",
          "y": "Target_0",
          "yref": "y"
         },
         {
          "font": {
           "color": "#FFFFFF"
          },
          "showarrow": false,
          "text": "0.0",
          "x": "Target_7",
          "xref": "x",
          "y": "Target_0",
          "yref": "y"
         },
         {
          "font": {
           "color": "#FFFFFF"
          },
          "showarrow": false,
          "text": "0.1875",
          "x": "Target_8",
          "xref": "x",
          "y": "Target_0",
          "yref": "y"
         },
         {
          "font": {
           "color": "#FFFFFF"
          },
          "showarrow": false,
          "text": "0.125",
          "x": "Target_9",
          "xref": "x",
          "y": "Target_0",
          "yref": "y"
         },
         {
          "font": {
           "color": "#FFFFFF"
          },
          "showarrow": false,
          "text": "0.0625",
          "x": "Target_10",
          "xref": "x",
          "y": "Target_0",
          "yref": "y"
         },
         {
          "font": {
           "color": "#FFFFFF"
          },
          "showarrow": false,
          "text": "0.0",
          "x": "Target_0",
          "xref": "x",
          "y": "Target_1",
          "yref": "y"
         },
         {
          "font": {
           "color": "#FFFFFF"
          },
          "showarrow": false,
          "text": "0.23902439024390243",
          "x": "Target_1",
          "xref": "x",
          "y": "Target_1",
          "yref": "y"
         },
         {
          "font": {
           "color": "#FFFFFF"
          },
          "showarrow": false,
          "text": "0.02926829268292683",
          "x": "Target_2",
          "xref": "x",
          "y": "Target_1",
          "yref": "y"
         },
         {
          "font": {
           "color": "#FFFFFF"
          },
          "showarrow": false,
          "text": "0.06341463414634146",
          "x": "Target_3",
          "xref": "x",
          "y": "Target_1",
          "yref": "y"
         },
         {
          "font": {
           "color": "#FFFFFF"
          },
          "showarrow": false,
          "text": "0.00975609756097561",
          "x": "Target_4",
          "xref": "x",
          "y": "Target_1",
          "yref": "y"
         },
         {
          "font": {
           "color": "#FFFFFF"
          },
          "showarrow": false,
          "text": "0.01951219512195122",
          "x": "Target_5",
          "xref": "x",
          "y": "Target_1",
          "yref": "y"
         },
         {
          "font": {
           "color": "#FFFFFF"
          },
          "showarrow": false,
          "text": "0.00975609756097561",
          "x": "Target_6",
          "xref": "x",
          "y": "Target_1",
          "yref": "y"
         },
         {
          "font": {
           "color": "#FFFFFF"
          },
          "showarrow": false,
          "text": "0.04878048780487805",
          "x": "Target_7",
          "xref": "x",
          "y": "Target_1",
          "yref": "y"
         },
         {
          "font": {
           "color": "#FFFFFF"
          },
          "showarrow": false,
          "text": "0.23414634146341465",
          "x": "Target_8",
          "xref": "x",
          "y": "Target_1",
          "yref": "y"
         },
         {
          "font": {
           "color": "#FFFFFF"
          },
          "showarrow": false,
          "text": "0.01951219512195122",
          "x": "Target_9",
          "xref": "x",
          "y": "Target_1",
          "yref": "y"
         },
         {
          "font": {
           "color": "#FFFFFF"
          },
          "showarrow": false,
          "text": "0.32682926829268294",
          "x": "Target_10",
          "xref": "x",
          "y": "Target_1",
          "yref": "y"
         },
         {
          "font": {
           "color": "#FFFFFF"
          },
          "showarrow": false,
          "text": "0.005235602094240838",
          "x": "Target_0",
          "xref": "x",
          "y": "Target_2",
          "yref": "y"
         },
         {
          "font": {
           "color": "#FFFFFF"
          },
          "showarrow": false,
          "text": "0.041884816753926704",
          "x": "Target_1",
          "xref": "x",
          "y": "Target_2",
          "yref": "y"
         },
         {
          "font": {
           "color": "#FFFFFF"
          },
          "showarrow": false,
          "text": "0.3612565445026178",
          "x": "Target_2",
          "xref": "x",
          "y": "Target_2",
          "yref": "y"
         },
         {
          "font": {
           "color": "#FFFFFF"
          },
          "showarrow": false,
          "text": "0.07853403141361257",
          "x": "Target_3",
          "xref": "x",
          "y": "Target_2",
          "yref": "y"
         },
         {
          "font": {
           "color": "#FFFFFF"
          },
          "showarrow": false,
          "text": "0.0",
          "x": "Target_4",
          "xref": "x",
          "y": "Target_2",
          "yref": "y"
         },
         {
          "font": {
           "color": "#FFFFFF"
          },
          "showarrow": false,
          "text": "0.031413612565445025",
          "x": "Target_5",
          "xref": "x",
          "y": "Target_2",
          "yref": "y"
         },
         {
          "font": {
           "color": "#FFFFFF"
          },
          "showarrow": false,
          "text": "0.015706806282722512",
          "x": "Target_6",
          "xref": "x",
          "y": "Target_2",
          "yref": "y"
         },
         {
          "font": {
           "color": "#FFFFFF"
          },
          "showarrow": false,
          "text": "0.11518324607329843",
          "x": "Target_7",
          "xref": "x",
          "y": "Target_2",
          "yref": "y"
         },
         {
          "font": {
           "color": "#FFFFFF"
          },
          "showarrow": false,
          "text": "0.1518324607329843",
          "x": "Target_8",
          "xref": "x",
          "y": "Target_2",
          "yref": "y"
         },
         {
          "font": {
           "color": "#FFFFFF"
          },
          "showarrow": false,
          "text": "0.0",
          "x": "Target_9",
          "xref": "x",
          "y": "Target_2",
          "yref": "y"
         },
         {
          "font": {
           "color": "#FFFFFF"
          },
          "showarrow": false,
          "text": "0.19895287958115182",
          "x": "Target_10",
          "xref": "x",
          "y": "Target_2",
          "yref": "y"
         },
         {
          "font": {
           "color": "#FFFFFF"
          },
          "showarrow": false,
          "text": "0.0",
          "x": "Target_0",
          "xref": "x",
          "y": "Target_3",
          "yref": "y"
         },
         {
          "font": {
           "color": "#FFFFFF"
          },
          "showarrow": false,
          "text": "0.04143646408839779",
          "x": "Target_1",
          "xref": "x",
          "y": "Target_3",
          "yref": "y"
         },
         {
          "font": {
           "color": "#FFFFFF"
          },
          "showarrow": false,
          "text": "0.027624309392265192",
          "x": "Target_2",
          "xref": "x",
          "y": "Target_3",
          "yref": "y"
         },
         {
          "font": {
           "color": "#000000"
          },
          "showarrow": false,
          "text": "0.569060773480663",
          "x": "Target_3",
          "xref": "x",
          "y": "Target_3",
          "yref": "y"
         },
         {
          "font": {
           "color": "#FFFFFF"
          },
          "showarrow": false,
          "text": "0.0027624309392265192",
          "x": "Target_4",
          "xref": "x",
          "y": "Target_3",
          "yref": "y"
         },
         {
          "font": {
           "color": "#FFFFFF"
          },
          "showarrow": false,
          "text": "0.052486187845303865",
          "x": "Target_5",
          "xref": "x",
          "y": "Target_3",
          "yref": "y"
         },
         {
          "font": {
           "color": "#FFFFFF"
          },
          "showarrow": false,
          "text": "0.0",
          "x": "Target_6",
          "xref": "x",
          "y": "Target_3",
          "yref": "y"
         },
         {
          "font": {
           "color": "#FFFFFF"
          },
          "showarrow": false,
          "text": "0.049723756906077346",
          "x": "Target_7",
          "xref": "x",
          "y": "Target_3",
          "yref": "y"
         },
         {
          "font": {
           "color": "#FFFFFF"
          },
          "showarrow": false,
          "text": "0.1712707182320442",
          "x": "Target_8",
          "xref": "x",
          "y": "Target_3",
          "yref": "y"
         },
         {
          "font": {
           "color": "#FFFFFF"
          },
          "showarrow": false,
          "text": "0.0055248618784530384",
          "x": "Target_9",
          "xref": "x",
          "y": "Target_3",
          "yref": "y"
         },
         {
          "font": {
           "color": "#FFFFFF"
          },
          "showarrow": false,
          "text": "0.08011049723756906",
          "x": "Target_10",
          "xref": "x",
          "y": "Target_3",
          "yref": "y"
         },
         {
          "font": {
           "color": "#FFFFFF"
          },
          "showarrow": false,
          "text": "0.0",
          "x": "Target_0",
          "xref": "x",
          "y": "Target_4",
          "yref": "y"
         },
         {
          "font": {
           "color": "#FFFFFF"
          },
          "showarrow": false,
          "text": "0.022222222222222223",
          "x": "Target_1",
          "xref": "x",
          "y": "Target_4",
          "yref": "y"
         },
         {
          "font": {
           "color": "#FFFFFF"
          },
          "showarrow": false,
          "text": "0.022222222222222223",
          "x": "Target_2",
          "xref": "x",
          "y": "Target_4",
          "yref": "y"
         },
         {
          "font": {
           "color": "#FFFFFF"
          },
          "showarrow": false,
          "text": "0.044444444444444446",
          "x": "Target_3",
          "xref": "x",
          "y": "Target_4",
          "yref": "y"
         },
         {
          "font": {
           "color": "#000000"
          },
          "showarrow": false,
          "text": "0.6444444444444445",
          "x": "Target_4",
          "xref": "x",
          "y": "Target_4",
          "yref": "y"
         },
         {
          "font": {
           "color": "#FFFFFF"
          },
          "showarrow": false,
          "text": "0.022222222222222223",
          "x": "Target_5",
          "xref": "x",
          "y": "Target_4",
          "yref": "y"
         },
         {
          "font": {
           "color": "#FFFFFF"
          },
          "showarrow": false,
          "text": "0.022222222222222223",
          "x": "Target_6",
          "xref": "x",
          "y": "Target_4",
          "yref": "y"
         },
         {
          "font": {
           "color": "#FFFFFF"
          },
          "showarrow": false,
          "text": "0.022222222222222223",
          "x": "Target_7",
          "xref": "x",
          "y": "Target_4",
          "yref": "y"
         },
         {
          "font": {
           "color": "#FFFFFF"
          },
          "showarrow": false,
          "text": "0.2",
          "x": "Target_8",
          "xref": "x",
          "y": "Target_4",
          "yref": "y"
         },
         {
          "font": {
           "color": "#FFFFFF"
          },
          "showarrow": false,
          "text": "0.0",
          "x": "Target_9",
          "xref": "x",
          "y": "Target_4",
          "yref": "y"
         },
         {
          "font": {
           "color": "#FFFFFF"
          },
          "showarrow": false,
          "text": "0.0",
          "x": "Target_10",
          "xref": "x",
          "y": "Target_4",
          "yref": "y"
         },
         {
          "font": {
           "color": "#FFFFFF"
          },
          "showarrow": false,
          "text": "0.0",
          "x": "Target_0",
          "xref": "x",
          "y": "Target_5",
          "yref": "y"
         },
         {
          "font": {
           "color": "#FFFFFF"
          },
          "showarrow": false,
          "text": "0.023809523809523808",
          "x": "Target_1",
          "xref": "x",
          "y": "Target_5",
          "yref": "y"
         },
         {
          "font": {
           "color": "#FFFFFF"
          },
          "showarrow": false,
          "text": "0.031746031746031744",
          "x": "Target_2",
          "xref": "x",
          "y": "Target_5",
          "yref": "y"
         },
         {
          "font": {
           "color": "#FFFFFF"
          },
          "showarrow": false,
          "text": "0.09523809523809523",
          "x": "Target_3",
          "xref": "x",
          "y": "Target_5",
          "yref": "y"
         },
         {
          "font": {
           "color": "#FFFFFF"
          },
          "showarrow": false,
          "text": "0.0",
          "x": "Target_4",
          "xref": "x",
          "y": "Target_5",
          "yref": "y"
         },
         {
          "font": {
           "color": "#000000"
          },
          "showarrow": false,
          "text": "0.49206349206349204",
          "x": "Target_5",
          "xref": "x",
          "y": "Target_5",
          "yref": "y"
         },
         {
          "font": {
           "color": "#FFFFFF"
          },
          "showarrow": false,
          "text": "0.0",
          "x": "Target_6",
          "xref": "x",
          "y": "Target_5",
          "yref": "y"
         },
         {
          "font": {
           "color": "#FFFFFF"
          },
          "showarrow": false,
          "text": "0.0873015873015873",
          "x": "Target_7",
          "xref": "x",
          "y": "Target_5",
          "yref": "y"
         },
         {
          "font": {
           "color": "#FFFFFF"
          },
          "showarrow": false,
          "text": "0.16666666666666666",
          "x": "Target_8",
          "xref": "x",
          "y": "Target_5",
          "yref": "y"
         },
         {
          "font": {
           "color": "#FFFFFF"
          },
          "showarrow": false,
          "text": "0.0",
          "x": "Target_9",
          "xref": "x",
          "y": "Target_5",
          "yref": "y"
         },
         {
          "font": {
           "color": "#FFFFFF"
          },
          "showarrow": false,
          "text": "0.10317460317460317",
          "x": "Target_10",
          "xref": "x",
          "y": "Target_5",
          "yref": "y"
         },
         {
          "font": {
           "color": "#FFFFFF"
          },
          "showarrow": false,
          "text": "0.02",
          "x": "Target_0",
          "xref": "x",
          "y": "Target_6",
          "yref": "y"
         },
         {
          "font": {
           "color": "#FFFFFF"
          },
          "showarrow": false,
          "text": "0.06",
          "x": "Target_1",
          "xref": "x",
          "y": "Target_6",
          "yref": "y"
         },
         {
          "font": {
           "color": "#FFFFFF"
          },
          "showarrow": false,
          "text": "0.18",
          "x": "Target_2",
          "xref": "x",
          "y": "Target_6",
          "yref": "y"
         },
         {
          "font": {
           "color": "#FFFFFF"
          },
          "showarrow": false,
          "text": "0.04",
          "x": "Target_3",
          "xref": "x",
          "y": "Target_6",
          "yref": "y"
         },
         {
          "font": {
           "color": "#FFFFFF"
          },
          "showarrow": false,
          "text": "0.02",
          "x": "Target_4",
          "xref": "x",
          "y": "Target_6",
          "yref": "y"
         },
         {
          "font": {
           "color": "#FFFFFF"
          },
          "showarrow": false,
          "text": "0.0",
          "x": "Target_5",
          "xref": "x",
          "y": "Target_6",
          "yref": "y"
         },
         {
          "font": {
           "color": "#FFFFFF"
          },
          "showarrow": false,
          "text": "0.18",
          "x": "Target_6",
          "xref": "x",
          "y": "Target_6",
          "yref": "y"
         },
         {
          "font": {
           "color": "#FFFFFF"
          },
          "showarrow": false,
          "text": "0.1",
          "x": "Target_7",
          "xref": "x",
          "y": "Target_6",
          "yref": "y"
         },
         {
          "font": {
           "color": "#FFFFFF"
          },
          "showarrow": false,
          "text": "0.2",
          "x": "Target_8",
          "xref": "x",
          "y": "Target_6",
          "yref": "y"
         },
         {
          "font": {
           "color": "#FFFFFF"
          },
          "showarrow": false,
          "text": "0.04",
          "x": "Target_9",
          "xref": "x",
          "y": "Target_6",
          "yref": "y"
         },
         {
          "font": {
           "color": "#FFFFFF"
          },
          "showarrow": false,
          "text": "0.16",
          "x": "Target_10",
          "xref": "x",
          "y": "Target_6",
          "yref": "y"
         },
         {
          "font": {
           "color": "#FFFFFF"
          },
          "showarrow": false,
          "text": "0.0",
          "x": "Target_0",
          "xref": "x",
          "y": "Target_7",
          "yref": "y"
         },
         {
          "font": {
           "color": "#FFFFFF"
          },
          "showarrow": false,
          "text": "0.017964071856287425",
          "x": "Target_1",
          "xref": "x",
          "y": "Target_7",
          "yref": "y"
         },
         {
          "font": {
           "color": "#FFFFFF"
          },
          "showarrow": false,
          "text": "0.038922155688622756",
          "x": "Target_2",
          "xref": "x",
          "y": "Target_7",
          "yref": "y"
         },
         {
          "font": {
           "color": "#FFFFFF"
          },
          "showarrow": false,
          "text": "0.020958083832335328",
          "x": "Target_3",
          "xref": "x",
          "y": "Target_7",
          "yref": "y"
         },
         {
          "font": {
           "color": "#FFFFFF"
          },
          "showarrow": false,
          "text": "0.005988023952095809",
          "x": "Target_4",
          "xref": "x",
          "y": "Target_7",
          "yref": "y"
         },
         {
          "font": {
           "color": "#FFFFFF"
          },
          "showarrow": false,
          "text": "0.10179640718562874",
          "x": "Target_5",
          "xref": "x",
          "y": "Target_7",
          "yref": "y"
         },
         {
          "font": {
           "color": "#FFFFFF"
          },
          "showarrow": false,
          "text": "0.011976047904191617",
          "x": "Target_6",
          "xref": "x",
          "y": "Target_7",
          "yref": "y"
         },
         {
          "font": {
           "color": "#000000"
          },
          "showarrow": false,
          "text": "0.4550898203592814",
          "x": "Target_7",
          "xref": "x",
          "y": "Target_7",
          "yref": "y"
         },
         {
          "font": {
           "color": "#FFFFFF"
          },
          "showarrow": false,
          "text": "0.23952095808383234",
          "x": "Target_8",
          "xref": "x",
          "y": "Target_7",
          "yref": "y"
         },
         {
          "font": {
           "color": "#FFFFFF"
          },
          "showarrow": false,
          "text": "0.0",
          "x": "Target_9",
          "xref": "x",
          "y": "Target_7",
          "yref": "y"
         },
         {
          "font": {
           "color": "#FFFFFF"
          },
          "showarrow": false,
          "text": "0.10778443113772455",
          "x": "Target_10",
          "xref": "x",
          "y": "Target_7",
          "yref": "y"
         },
         {
          "font": {
           "color": "#FFFFFF"
          },
          "showarrow": false,
          "text": "0.0038314176245210726",
          "x": "Target_0",
          "xref": "x",
          "y": "Target_8",
          "yref": "y"
         },
         {
          "font": {
           "color": "#FFFFFF"
          },
          "showarrow": false,
          "text": "0.037547892720306515",
          "x": "Target_1",
          "xref": "x",
          "y": "Target_8",
          "yref": "y"
         },
         {
          "font": {
           "color": "#FFFFFF"
          },
          "showarrow": false,
          "text": "0.027586206896551724",
          "x": "Target_2",
          "xref": "x",
          "y": "Target_8",
          "yref": "y"
         },
         {
          "font": {
           "color": "#FFFFFF"
          },
          "showarrow": false,
          "text": "0.038314176245210725",
          "x": "Target_3",
          "xref": "x",
          "y": "Target_8",
          "yref": "y"
         },
         {
          "font": {
           "color": "#FFFFFF"
          },
          "showarrow": false,
          "text": "0.007662835249042145",
          "x": "Target_4",
          "xref": "x",
          "y": "Target_8",
          "yref": "y"
         },
         {
          "font": {
           "color": "#FFFFFF"
          },
          "showarrow": false,
          "text": "0.038314176245210725",
          "x": "Target_5",
          "xref": "x",
          "y": "Target_8",
          "yref": "y"
         },
         {
          "font": {
           "color": "#FFFFFF"
          },
          "showarrow": false,
          "text": "0.012260536398467433",
          "x": "Target_6",
          "xref": "x",
          "y": "Target_8",
          "yref": "y"
         },
         {
          "font": {
           "color": "#FFFFFF"
          },
          "showarrow": false,
          "text": "0.1103448275862069",
          "x": "Target_7",
          "xref": "x",
          "y": "Target_8",
          "yref": "y"
         },
         {
          "font": {
           "color": "#000000"
          },
          "showarrow": false,
          "text": "0.5647509578544061",
          "x": "Target_8",
          "xref": "x",
          "y": "Target_8",
          "yref": "y"
         },
         {
          "font": {
           "color": "#FFFFFF"
          },
          "showarrow": false,
          "text": "0.006130268199233717",
          "x": "Target_9",
          "xref": "x",
          "y": "Target_8",
          "yref": "y"
         },
         {
          "font": {
           "color": "#FFFFFF"
          },
          "showarrow": false,
          "text": "0.1532567049808429",
          "x": "Target_10",
          "xref": "x",
          "y": "Target_8",
          "yref": "y"
         },
         {
          "font": {
           "color": "#FFFFFF"
          },
          "showarrow": false,
          "text": "0.01694915254237288",
          "x": "Target_0",
          "xref": "x",
          "y": "Target_9",
          "yref": "y"
         },
         {
          "font": {
           "color": "#FFFFFF"
          },
          "showarrow": false,
          "text": "0.0",
          "x": "Target_1",
          "xref": "x",
          "y": "Target_9",
          "yref": "y"
         },
         {
          "font": {
           "color": "#FFFFFF"
          },
          "showarrow": false,
          "text": "0.01694915254237288",
          "x": "Target_2",
          "xref": "x",
          "y": "Target_9",
          "yref": "y"
         },
         {
          "font": {
           "color": "#FFFFFF"
          },
          "showarrow": false,
          "text": "0.03389830508474576",
          "x": "Target_3",
          "xref": "x",
          "y": "Target_9",
          "yref": "y"
         },
         {
          "font": {
           "color": "#FFFFFF"
          },
          "showarrow": false,
          "text": "0.0",
          "x": "Target_4",
          "xref": "x",
          "y": "Target_9",
          "yref": "y"
         },
         {
          "font": {
           "color": "#FFFFFF"
          },
          "showarrow": false,
          "text": "0.01694915254237288",
          "x": "Target_5",
          "xref": "x",
          "y": "Target_9",
          "yref": "y"
         },
         {
          "font": {
           "color": "#FFFFFF"
          },
          "showarrow": false,
          "text": "0.0",
          "x": "Target_6",
          "xref": "x",
          "y": "Target_9",
          "yref": "y"
         },
         {
          "font": {
           "color": "#FFFFFF"
          },
          "showarrow": false,
          "text": "0.0",
          "x": "Target_7",
          "xref": "x",
          "y": "Target_9",
          "yref": "y"
         },
         {
          "font": {
           "color": "#FFFFFF"
          },
          "showarrow": false,
          "text": "0.05084745762711865",
          "x": "Target_8",
          "xref": "x",
          "y": "Target_9",
          "yref": "y"
         },
         {
          "font": {
           "color": "#000000"
          },
          "showarrow": false,
          "text": "0.8135593220338984",
          "x": "Target_9",
          "xref": "x",
          "y": "Target_9",
          "yref": "y"
         },
         {
          "font": {
           "color": "#FFFFFF"
          },
          "showarrow": false,
          "text": "0.05084745762711865",
          "x": "Target_10",
          "xref": "x",
          "y": "Target_9",
          "yref": "y"
         },
         {
          "font": {
           "color": "#FFFFFF"
          },
          "showarrow": false,
          "text": "0.0",
          "x": "Target_0",
          "xref": "x",
          "y": "Target_10",
          "yref": "y"
         },
         {
          "font": {
           "color": "#FFFFFF"
          },
          "showarrow": false,
          "text": "0.05609573672400898",
          "x": "Target_1",
          "xref": "x",
          "y": "Target_10",
          "yref": "y"
         },
         {
          "font": {
           "color": "#FFFFFF"
          },
          "showarrow": false,
          "text": "0.035153328347045626",
          "x": "Target_2",
          "xref": "x",
          "y": "Target_10",
          "yref": "y"
         },
         {
          "font": {
           "color": "#FFFFFF"
          },
          "showarrow": false,
          "text": "0.018698578908002993",
          "x": "Target_3",
          "xref": "x",
          "y": "Target_10",
          "yref": "y"
         },
         {
          "font": {
           "color": "#FFFFFF"
          },
          "showarrow": false,
          "text": "0.0014958863126402393",
          "x": "Target_4",
          "xref": "x",
          "y": "Target_10",
          "yref": "y"
         },
         {
          "font": {
           "color": "#FFFFFF"
          },
          "showarrow": false,
          "text": "0.02916978309648467",
          "x": "Target_5",
          "xref": "x",
          "y": "Target_10",
          "yref": "y"
         },
         {
          "font": {
           "color": "#FFFFFF"
          },
          "showarrow": false,
          "text": "0.008975317875841436",
          "x": "Target_6",
          "xref": "x",
          "y": "Target_10",
          "yref": "y"
         },
         {
          "font": {
           "color": "#FFFFFF"
          },
          "showarrow": false,
          "text": "0.059087509349289455",
          "x": "Target_7",
          "xref": "x",
          "y": "Target_10",
          "yref": "y"
         },
         {
          "font": {
           "color": "#FFFFFF"
          },
          "showarrow": false,
          "text": "0.1824981301421092",
          "x": "Target_8",
          "xref": "x",
          "y": "Target_10",
          "yref": "y"
         },
         {
          "font": {
           "color": "#FFFFFF"
          },
          "showarrow": false,
          "text": "0.004487658937920718",
          "x": "Target_9",
          "xref": "x",
          "y": "Target_10",
          "yref": "y"
         },
         {
          "font": {
           "color": "#000000"
          },
          "showarrow": false,
          "text": "0.6043380703066566",
          "x": "Target_10",
          "xref": "x",
          "y": "Target_10",
          "yref": "y"
         }
        ],
        "template": {
         "data": {
          "bar": [
           {
            "error_x": {
             "color": "#2a3f5f"
            },
            "error_y": {
             "color": "#2a3f5f"
            },
            "marker": {
             "line": {
              "color": "#E5ECF6",
              "width": 0.5
             },
             "pattern": {
              "fillmode": "overlay",
              "size": 10,
              "solidity": 0.2
             }
            },
            "type": "bar"
           }
          ],
          "barpolar": [
           {
            "marker": {
             "line": {
              "color": "#E5ECF6",
              "width": 0.5
             },
             "pattern": {
              "fillmode": "overlay",
              "size": 10,
              "solidity": 0.2
             }
            },
            "type": "barpolar"
           }
          ],
          "carpet": [
           {
            "aaxis": {
             "endlinecolor": "#2a3f5f",
             "gridcolor": "white",
             "linecolor": "white",
             "minorgridcolor": "white",
             "startlinecolor": "#2a3f5f"
            },
            "baxis": {
             "endlinecolor": "#2a3f5f",
             "gridcolor": "white",
             "linecolor": "white",
             "minorgridcolor": "white",
             "startlinecolor": "#2a3f5f"
            },
            "type": "carpet"
           }
          ],
          "choropleth": [
           {
            "colorbar": {
             "outlinewidth": 0,
             "ticks": ""
            },
            "type": "choropleth"
           }
          ],
          "contour": [
           {
            "colorbar": {
             "outlinewidth": 0,
             "ticks": ""
            },
            "colorscale": [
             [
              0,
              "#0d0887"
             ],
             [
              0.1111111111111111,
              "#46039f"
             ],
             [
              0.2222222222222222,
              "#7201a8"
             ],
             [
              0.3333333333333333,
              "#9c179e"
             ],
             [
              0.4444444444444444,
              "#bd3786"
             ],
             [
              0.5555555555555556,
              "#d8576b"
             ],
             [
              0.6666666666666666,
              "#ed7953"
             ],
             [
              0.7777777777777778,
              "#fb9f3a"
             ],
             [
              0.8888888888888888,
              "#fdca26"
             ],
             [
              1,
              "#f0f921"
             ]
            ],
            "type": "contour"
           }
          ],
          "contourcarpet": [
           {
            "colorbar": {
             "outlinewidth": 0,
             "ticks": ""
            },
            "type": "contourcarpet"
           }
          ],
          "heatmap": [
           {
            "colorbar": {
             "outlinewidth": 0,
             "ticks": ""
            },
            "colorscale": [
             [
              0,
              "#0d0887"
             ],
             [
              0.1111111111111111,
              "#46039f"
             ],
             [
              0.2222222222222222,
              "#7201a8"
             ],
             [
              0.3333333333333333,
              "#9c179e"
             ],
             [
              0.4444444444444444,
              "#bd3786"
             ],
             [
              0.5555555555555556,
              "#d8576b"
             ],
             [
              0.6666666666666666,
              "#ed7953"
             ],
             [
              0.7777777777777778,
              "#fb9f3a"
             ],
             [
              0.8888888888888888,
              "#fdca26"
             ],
             [
              1,
              "#f0f921"
             ]
            ],
            "type": "heatmap"
           }
          ],
          "heatmapgl": [
           {
            "colorbar": {
             "outlinewidth": 0,
             "ticks": ""
            },
            "colorscale": [
             [
              0,
              "#0d0887"
             ],
             [
              0.1111111111111111,
              "#46039f"
             ],
             [
              0.2222222222222222,
              "#7201a8"
             ],
             [
              0.3333333333333333,
              "#9c179e"
             ],
             [
              0.4444444444444444,
              "#bd3786"
             ],
             [
              0.5555555555555556,
              "#d8576b"
             ],
             [
              0.6666666666666666,
              "#ed7953"
             ],
             [
              0.7777777777777778,
              "#fb9f3a"
             ],
             [
              0.8888888888888888,
              "#fdca26"
             ],
             [
              1,
              "#f0f921"
             ]
            ],
            "type": "heatmapgl"
           }
          ],
          "histogram": [
           {
            "marker": {
             "pattern": {
              "fillmode": "overlay",
              "size": 10,
              "solidity": 0.2
             }
            },
            "type": "histogram"
           }
          ],
          "histogram2d": [
           {
            "colorbar": {
             "outlinewidth": 0,
             "ticks": ""
            },
            "colorscale": [
             [
              0,
              "#0d0887"
             ],
             [
              0.1111111111111111,
              "#46039f"
             ],
             [
              0.2222222222222222,
              "#7201a8"
             ],
             [
              0.3333333333333333,
              "#9c179e"
             ],
             [
              0.4444444444444444,
              "#bd3786"
             ],
             [
              0.5555555555555556,
              "#d8576b"
             ],
             [
              0.6666666666666666,
              "#ed7953"
             ],
             [
              0.7777777777777778,
              "#fb9f3a"
             ],
             [
              0.8888888888888888,
              "#fdca26"
             ],
             [
              1,
              "#f0f921"
             ]
            ],
            "type": "histogram2d"
           }
          ],
          "histogram2dcontour": [
           {
            "colorbar": {
             "outlinewidth": 0,
             "ticks": ""
            },
            "colorscale": [
             [
              0,
              "#0d0887"
             ],
             [
              0.1111111111111111,
              "#46039f"
             ],
             [
              0.2222222222222222,
              "#7201a8"
             ],
             [
              0.3333333333333333,
              "#9c179e"
             ],
             [
              0.4444444444444444,
              "#bd3786"
             ],
             [
              0.5555555555555556,
              "#d8576b"
             ],
             [
              0.6666666666666666,
              "#ed7953"
             ],
             [
              0.7777777777777778,
              "#fb9f3a"
             ],
             [
              0.8888888888888888,
              "#fdca26"
             ],
             [
              1,
              "#f0f921"
             ]
            ],
            "type": "histogram2dcontour"
           }
          ],
          "mesh3d": [
           {
            "colorbar": {
             "outlinewidth": 0,
             "ticks": ""
            },
            "type": "mesh3d"
           }
          ],
          "parcoords": [
           {
            "line": {
             "colorbar": {
              "outlinewidth": 0,
              "ticks": ""
             }
            },
            "type": "parcoords"
           }
          ],
          "pie": [
           {
            "automargin": true,
            "type": "pie"
           }
          ],
          "scatter": [
           {
            "marker": {
             "colorbar": {
              "outlinewidth": 0,
              "ticks": ""
             }
            },
            "type": "scatter"
           }
          ],
          "scatter3d": [
           {
            "line": {
             "colorbar": {
              "outlinewidth": 0,
              "ticks": ""
             }
            },
            "marker": {
             "colorbar": {
              "outlinewidth": 0,
              "ticks": ""
             }
            },
            "type": "scatter3d"
           }
          ],
          "scattercarpet": [
           {
            "marker": {
             "colorbar": {
              "outlinewidth": 0,
              "ticks": ""
             }
            },
            "type": "scattercarpet"
           }
          ],
          "scattergeo": [
           {
            "marker": {
             "colorbar": {
              "outlinewidth": 0,
              "ticks": ""
             }
            },
            "type": "scattergeo"
           }
          ],
          "scattergl": [
           {
            "marker": {
             "colorbar": {
              "outlinewidth": 0,
              "ticks": ""
             }
            },
            "type": "scattergl"
           }
          ],
          "scattermapbox": [
           {
            "marker": {
             "colorbar": {
              "outlinewidth": 0,
              "ticks": ""
             }
            },
            "type": "scattermapbox"
           }
          ],
          "scatterpolar": [
           {
            "marker": {
             "colorbar": {
              "outlinewidth": 0,
              "ticks": ""
             }
            },
            "type": "scatterpolar"
           }
          ],
          "scatterpolargl": [
           {
            "marker": {
             "colorbar": {
              "outlinewidth": 0,
              "ticks": ""
             }
            },
            "type": "scatterpolargl"
           }
          ],
          "scatterternary": [
           {
            "marker": {
             "colorbar": {
              "outlinewidth": 0,
              "ticks": ""
             }
            },
            "type": "scatterternary"
           }
          ],
          "surface": [
           {
            "colorbar": {
             "outlinewidth": 0,
             "ticks": ""
            },
            "colorscale": [
             [
              0,
              "#0d0887"
             ],
             [
              0.1111111111111111,
              "#46039f"
             ],
             [
              0.2222222222222222,
              "#7201a8"
             ],
             [
              0.3333333333333333,
              "#9c179e"
             ],
             [
              0.4444444444444444,
              "#bd3786"
             ],
             [
              0.5555555555555556,
              "#d8576b"
             ],
             [
              0.6666666666666666,
              "#ed7953"
             ],
             [
              0.7777777777777778,
              "#fb9f3a"
             ],
             [
              0.8888888888888888,
              "#fdca26"
             ],
             [
              1,
              "#f0f921"
             ]
            ],
            "type": "surface"
           }
          ],
          "table": [
           {
            "cells": {
             "fill": {
              "color": "#EBF0F8"
             },
             "line": {
              "color": "white"
             }
            },
            "header": {
             "fill": {
              "color": "#C8D4E3"
             },
             "line": {
              "color": "white"
             }
            },
            "type": "table"
           }
          ]
         },
         "layout": {
          "annotationdefaults": {
           "arrowcolor": "#2a3f5f",
           "arrowhead": 0,
           "arrowwidth": 1
          },
          "autotypenumbers": "strict",
          "coloraxis": {
           "colorbar": {
            "outlinewidth": 0,
            "ticks": ""
           }
          },
          "colorscale": {
           "diverging": [
            [
             0,
             "#8e0152"
            ],
            [
             0.1,
             "#c51b7d"
            ],
            [
             0.2,
             "#de77ae"
            ],
            [
             0.3,
             "#f1b6da"
            ],
            [
             0.4,
             "#fde0ef"
            ],
            [
             0.5,
             "#f7f7f7"
            ],
            [
             0.6,
             "#e6f5d0"
            ],
            [
             0.7,
             "#b8e186"
            ],
            [
             0.8,
             "#7fbc41"
            ],
            [
             0.9,
             "#4d9221"
            ],
            [
             1,
             "#276419"
            ]
           ],
           "sequential": [
            [
             0,
             "#0d0887"
            ],
            [
             0.1111111111111111,
             "#46039f"
            ],
            [
             0.2222222222222222,
             "#7201a8"
            ],
            [
             0.3333333333333333,
             "#9c179e"
            ],
            [
             0.4444444444444444,
             "#bd3786"
            ],
            [
             0.5555555555555556,
             "#d8576b"
            ],
            [
             0.6666666666666666,
             "#ed7953"
            ],
            [
             0.7777777777777778,
             "#fb9f3a"
            ],
            [
             0.8888888888888888,
             "#fdca26"
            ],
            [
             1,
             "#f0f921"
            ]
           ],
           "sequentialminus": [
            [
             0,
             "#0d0887"
            ],
            [
             0.1111111111111111,
             "#46039f"
            ],
            [
             0.2222222222222222,
             "#7201a8"
            ],
            [
             0.3333333333333333,
             "#9c179e"
            ],
            [
             0.4444444444444444,
             "#bd3786"
            ],
            [
             0.5555555555555556,
             "#d8576b"
            ],
            [
             0.6666666666666666,
             "#ed7953"
            ],
            [
             0.7777777777777778,
             "#fb9f3a"
            ],
            [
             0.8888888888888888,
             "#fdca26"
            ],
            [
             1,
             "#f0f921"
            ]
           ]
          },
          "colorway": [
           "#636efa",
           "#EF553B",
           "#00cc96",
           "#ab63fa",
           "#FFA15A",
           "#19d3f3",
           "#FF6692",
           "#B6E880",
           "#FF97FF",
           "#FECB52"
          ],
          "font": {
           "color": "#2a3f5f"
          },
          "geo": {
           "bgcolor": "white",
           "lakecolor": "white",
           "landcolor": "#E5ECF6",
           "showlakes": true,
           "showland": true,
           "subunitcolor": "white"
          },
          "hoverlabel": {
           "align": "left"
          },
          "hovermode": "closest",
          "mapbox": {
           "style": "light"
          },
          "paper_bgcolor": "white",
          "plot_bgcolor": "#E5ECF6",
          "polar": {
           "angularaxis": {
            "gridcolor": "white",
            "linecolor": "white",
            "ticks": ""
           },
           "bgcolor": "#E5ECF6",
           "radialaxis": {
            "gridcolor": "white",
            "linecolor": "white",
            "ticks": ""
           }
          },
          "scene": {
           "xaxis": {
            "backgroundcolor": "#E5ECF6",
            "gridcolor": "white",
            "gridwidth": 2,
            "linecolor": "white",
            "showbackground": true,
            "ticks": "",
            "zerolinecolor": "white"
           },
           "yaxis": {
            "backgroundcolor": "#E5ECF6",
            "gridcolor": "white",
            "gridwidth": 2,
            "linecolor": "white",
            "showbackground": true,
            "ticks": "",
            "zerolinecolor": "white"
           },
           "zaxis": {
            "backgroundcolor": "#E5ECF6",
            "gridcolor": "white",
            "gridwidth": 2,
            "linecolor": "white",
            "showbackground": true,
            "ticks": "",
            "zerolinecolor": "white"
           }
          },
          "shapedefaults": {
           "line": {
            "color": "#2a3f5f"
           }
          },
          "ternary": {
           "aaxis": {
            "gridcolor": "white",
            "linecolor": "white",
            "ticks": ""
           },
           "baxis": {
            "gridcolor": "white",
            "linecolor": "white",
            "ticks": ""
           },
           "bgcolor": "#E5ECF6",
           "caxis": {
            "gridcolor": "white",
            "linecolor": "white",
            "ticks": ""
           }
          },
          "title": {
           "x": 0.05
          },
          "xaxis": {
           "automargin": true,
           "gridcolor": "white",
           "linecolor": "white",
           "ticks": "",
           "title": {
            "standoff": 15
           },
           "zerolinecolor": "white",
           "zerolinewidth": 2
          },
          "yaxis": {
           "automargin": true,
           "gridcolor": "white",
           "linecolor": "white",
           "ticks": "",
           "title": {
            "standoff": 15
           },
           "zerolinecolor": "white",
           "zerolinewidth": 2
          }
         }
        },
        "xaxis": {
         "dtick": 1,
         "gridcolor": "rgb(0, 0, 0)",
         "side": "top",
         "ticks": "",
         "title": {
          "text": "Pred Label"
         }
        },
        "yaxis": {
         "dtick": 1,
         "ticks": "",
         "ticksuffix": "  ",
         "title": {
          "text": "True Label"
         }
        }
       }
      }
     },
     "metadata": {},
     "output_type": "display_data"
    }
   ],
   "source": [
    "cm = confusion_matrix(oof_df[Config.target], oof_df['prediction'], normalize='true')\n",
    "\n",
    "names = [f'Target_{i}' for i in range(11)]\n",
    "\n",
    "fig = ff.create_annotated_heatmap(cm, x=names, y=names)\n",
    "fig.update_layout(\n",
    "    yaxis_title='True Label',\n",
    "    xaxis_title='Pred Label',\n",
    ")\n",
    "fig.show()"
   ]
  },
  {
   "cell_type": "code",
   "execution_count": 34,
   "metadata": {},
   "outputs": [
    {
     "data": {
      "application/vnd.plotly.v1+json": {
       "config": {
        "plotlyServerURL": "https://plot.ly"
       },
       "data": [
        {
         "hovertemplate": "%{y} Importance = %{x:.0f}<extra></extra>",
         "marker": {
          "color": [
           "#0b1f5e",
           "#0e2265",
           "#12256d",
           "#162874",
           "#192b7c",
           "#1d2e83",
           "#21308b",
           "#243392",
           "#253795",
           "#243c98",
           "#24419a",
           "#24479d",
           "#234c9f",
           "#2351a2",
           "#2356a4",
           "#225ca7",
           "#2260a9",
           "#2166ac",
           "#216daf",
           "#2073b2",
           "#1f7ab5",
           "#1f80b8",
           "#1e86bb",
           "#1d8dbe",
           "#1d91c0",
           "#2296c1",
           "#269bc1",
           "#2b9fc2",
           "#2fa4c2",
           "#34a9c3",
           "#39adc3",
           "#3db2c4",
           "#40b5c4",
           "#48b9c3",
           "#50bbc2",
           "#57bec1",
           "#5fc1c0",
           "#67c4be",
           "#6fc7bd",
           "#76cabc",
           "#7ecdbb",
           "#85cfba",
           "#8ed3ba",
           "#97d6b9",
           "#a0dab8",
           "#a9ddb7",
           "#b2e1b6",
           "#bbe4b5",
           "#c4e8b4",
           "#c9eab4",
           "#ceecb3",
           "#d3eeb3",
           "#d7efb3",
           "#dcf1b2",
           "#e1f3b2",
           "#e6f5b2",
           "#eaf7b1",
           "#edf8b2",
           "#f0f9b7",
           "#f2fabc",
           "#f4fbc1",
           "#f7fcc6",
           "#f9fdcb",
           "#fbfdd0",
           "#fdfed5"
          ],
          "size": 8
         },
         "mode": "markers",
         "type": "scatter",
         "x": [
          0,
          0,
          0,
          44.16331819295883,
          48.93179429561169,
          82.8325710773468,
          231.1816329404459,
          240.58059789538385,
          289.96013898849486,
          361.97882847293926,
          392.17208807602043,
          467.53162647063874,
          506.1281509045175,
          610.6187740268738,
          639.4837542427437,
          677.0318637626275,
          778.3443853616715,
          934.5234491263079,
          1336.2687707478888,
          1373.5225032835806,
          1571.1763800075369,
          2699.103908102398,
          2769.772612748131,
          3695.4661536453577,
          4033.880675618561,
          4201.266288980807,
          4657.898864983542,
          5191.359962859216,
          6394.548963053264,
          6568.275371013458,
          6797.769639510612,
          7527.271831239637,
          7797.210812693917,
          7901.916239894583,
          8827.879798629356,
          10871.953964975928,
          13524.67852002198,
          17745.292455022347
         ],
         "y": [
          "region_A",
          "region_M",
          "duration_long",
          "region_Q",
          "region_R",
          "region_I",
          "region_F",
          "region_L",
          "region_C",
          "region_O",
          "region_E",
          "region_B",
          "region_S",
          "tempo_int",
          "region_K",
          "unknown",
          "region_H",
          "region_N",
          "region_G",
          "PCA1",
          "region_D",
          "region_T",
          "PCA4",
          "loudness",
          "region_J",
          "duration_ms",
          "PCA2",
          "liveness",
          "region_P",
          "instrumentalness",
          "positiveness",
          "PCA5",
          "danceability",
          "energy",
          "speechiness",
          "popularity",
          "acousticness",
          "PCA3"
         ]
        }
       ],
       "layout": {
        "height": 1000,
        "margin": {
         "l": 150,
         "t": 80
        },
        "shapes": [
         {
          "line": {
           "color": "#0b1f5e",
           "width": 4
          },
          "opacity": 0.8,
          "type": "line",
          "x0": 0,
          "x1": 0,
          "y0": 0,
          "y1": 0
         },
         {
          "line": {
           "color": "#0e2265",
           "width": 4
          },
          "opacity": 0.8,
          "type": "line",
          "x0": 0,
          "x1": 0,
          "y0": 1,
          "y1": 1
         },
         {
          "line": {
           "color": "#12256d",
           "width": 4
          },
          "opacity": 0.8,
          "type": "line",
          "x0": 0,
          "x1": 0,
          "y0": 2,
          "y1": 2
         },
         {
          "line": {
           "color": "#162874",
           "width": 4
          },
          "opacity": 0.8,
          "type": "line",
          "x0": 0,
          "x1": 44.16331819295883,
          "y0": 3,
          "y1": 3
         },
         {
          "line": {
           "color": "#192b7c",
           "width": 4
          },
          "opacity": 0.8,
          "type": "line",
          "x0": 0,
          "x1": 48.93179429561169,
          "y0": 4,
          "y1": 4
         },
         {
          "line": {
           "color": "#1d2e83",
           "width": 4
          },
          "opacity": 0.8,
          "type": "line",
          "x0": 0,
          "x1": 82.8325710773468,
          "y0": 5,
          "y1": 5
         },
         {
          "line": {
           "color": "#21308b",
           "width": 4
          },
          "opacity": 0.8,
          "type": "line",
          "x0": 0,
          "x1": 231.1816329404459,
          "y0": 6,
          "y1": 6
         },
         {
          "line": {
           "color": "#243392",
           "width": 4
          },
          "opacity": 0.8,
          "type": "line",
          "x0": 0,
          "x1": 240.58059789538385,
          "y0": 7,
          "y1": 7
         },
         {
          "line": {
           "color": "#253795",
           "width": 4
          },
          "opacity": 0.8,
          "type": "line",
          "x0": 0,
          "x1": 289.96013898849486,
          "y0": 8,
          "y1": 8
         },
         {
          "line": {
           "color": "#243c98",
           "width": 4
          },
          "opacity": 0.8,
          "type": "line",
          "x0": 0,
          "x1": 361.97882847293926,
          "y0": 9,
          "y1": 9
         },
         {
          "line": {
           "color": "#24419a",
           "width": 4
          },
          "opacity": 0.8,
          "type": "line",
          "x0": 0,
          "x1": 392.17208807602043,
          "y0": 10,
          "y1": 10
         },
         {
          "line": {
           "color": "#24479d",
           "width": 4
          },
          "opacity": 0.8,
          "type": "line",
          "x0": 0,
          "x1": 467.53162647063874,
          "y0": 11,
          "y1": 11
         },
         {
          "line": {
           "color": "#234c9f",
           "width": 4
          },
          "opacity": 0.8,
          "type": "line",
          "x0": 0,
          "x1": 506.1281509045175,
          "y0": 12,
          "y1": 12
         },
         {
          "line": {
           "color": "#2351a2",
           "width": 4
          },
          "opacity": 0.8,
          "type": "line",
          "x0": 0,
          "x1": 610.6187740268738,
          "y0": 13,
          "y1": 13
         },
         {
          "line": {
           "color": "#2356a4",
           "width": 4
          },
          "opacity": 0.8,
          "type": "line",
          "x0": 0,
          "x1": 639.4837542427437,
          "y0": 14,
          "y1": 14
         },
         {
          "line": {
           "color": "#225ca7",
           "width": 4
          },
          "opacity": 0.8,
          "type": "line",
          "x0": 0,
          "x1": 677.0318637626275,
          "y0": 15,
          "y1": 15
         },
         {
          "line": {
           "color": "#2260a9",
           "width": 4
          },
          "opacity": 0.8,
          "type": "line",
          "x0": 0,
          "x1": 778.3443853616715,
          "y0": 16,
          "y1": 16
         },
         {
          "line": {
           "color": "#2166ac",
           "width": 4
          },
          "opacity": 0.8,
          "type": "line",
          "x0": 0,
          "x1": 934.5234491263079,
          "y0": 17,
          "y1": 17
         },
         {
          "line": {
           "color": "#216daf",
           "width": 4
          },
          "opacity": 0.8,
          "type": "line",
          "x0": 0,
          "x1": 1336.2687707478888,
          "y0": 18,
          "y1": 18
         },
         {
          "line": {
           "color": "#2073b2",
           "width": 4
          },
          "opacity": 0.8,
          "type": "line",
          "x0": 0,
          "x1": 1373.5225032835806,
          "y0": 19,
          "y1": 19
         },
         {
          "line": {
           "color": "#1f7ab5",
           "width": 4
          },
          "opacity": 0.8,
          "type": "line",
          "x0": 0,
          "x1": 1571.1763800075369,
          "y0": 20,
          "y1": 20
         },
         {
          "line": {
           "color": "#1f80b8",
           "width": 4
          },
          "opacity": 0.8,
          "type": "line",
          "x0": 0,
          "x1": 2699.103908102398,
          "y0": 21,
          "y1": 21
         },
         {
          "line": {
           "color": "#1e86bb",
           "width": 4
          },
          "opacity": 0.8,
          "type": "line",
          "x0": 0,
          "x1": 2769.772612748131,
          "y0": 22,
          "y1": 22
         },
         {
          "line": {
           "color": "#1d8dbe",
           "width": 4
          },
          "opacity": 0.8,
          "type": "line",
          "x0": 0,
          "x1": 3695.4661536453577,
          "y0": 23,
          "y1": 23
         },
         {
          "line": {
           "color": "#1d91c0",
           "width": 4
          },
          "opacity": 0.8,
          "type": "line",
          "x0": 0,
          "x1": 4033.880675618561,
          "y0": 24,
          "y1": 24
         },
         {
          "line": {
           "color": "#2296c1",
           "width": 4
          },
          "opacity": 0.8,
          "type": "line",
          "x0": 0,
          "x1": 4201.266288980807,
          "y0": 25,
          "y1": 25
         },
         {
          "line": {
           "color": "#269bc1",
           "width": 4
          },
          "opacity": 0.8,
          "type": "line",
          "x0": 0,
          "x1": 4657.898864983542,
          "y0": 26,
          "y1": 26
         },
         {
          "line": {
           "color": "#2b9fc2",
           "width": 4
          },
          "opacity": 0.8,
          "type": "line",
          "x0": 0,
          "x1": 5191.359962859216,
          "y0": 27,
          "y1": 27
         },
         {
          "line": {
           "color": "#2fa4c2",
           "width": 4
          },
          "opacity": 0.8,
          "type": "line",
          "x0": 0,
          "x1": 6394.548963053264,
          "y0": 28,
          "y1": 28
         },
         {
          "line": {
           "color": "#34a9c3",
           "width": 4
          },
          "opacity": 0.8,
          "type": "line",
          "x0": 0,
          "x1": 6568.275371013458,
          "y0": 29,
          "y1": 29
         },
         {
          "line": {
           "color": "#39adc3",
           "width": 4
          },
          "opacity": 0.8,
          "type": "line",
          "x0": 0,
          "x1": 6797.769639510612,
          "y0": 30,
          "y1": 30
         },
         {
          "line": {
           "color": "#3db2c4",
           "width": 4
          },
          "opacity": 0.8,
          "type": "line",
          "x0": 0,
          "x1": 7527.271831239637,
          "y0": 31,
          "y1": 31
         },
         {
          "line": {
           "color": "#40b5c4",
           "width": 4
          },
          "opacity": 0.8,
          "type": "line",
          "x0": 0,
          "x1": 7797.210812693917,
          "y0": 32,
          "y1": 32
         },
         {
          "line": {
           "color": "#48b9c3",
           "width": 4
          },
          "opacity": 0.8,
          "type": "line",
          "x0": 0,
          "x1": 7901.916239894583,
          "y0": 33,
          "y1": 33
         },
         {
          "line": {
           "color": "#50bbc2",
           "width": 4
          },
          "opacity": 0.8,
          "type": "line",
          "x0": 0,
          "x1": 8827.879798629356,
          "y0": 34,
          "y1": 34
         },
         {
          "line": {
           "color": "#57bec1",
           "width": 4
          },
          "opacity": 0.8,
          "type": "line",
          "x0": 0,
          "x1": 10871.953964975928,
          "y0": 35,
          "y1": 35
         },
         {
          "line": {
           "color": "#5fc1c0",
           "width": 4
          },
          "opacity": 0.8,
          "type": "line",
          "x0": 0,
          "x1": 13524.67852002198,
          "y0": 36,
          "y1": 36
         },
         {
          "line": {
           "color": "#67c4be",
           "width": 4
          },
          "opacity": 0.8,
          "type": "line",
          "x0": 0,
          "x1": 17745.292455022347,
          "y0": 37,
          "y1": 37
         }
        ],
        "template": {
         "data": {
          "bar": [
           {
            "error_x": {
             "color": "#2a3f5f"
            },
            "error_y": {
             "color": "#2a3f5f"
            },
            "marker": {
             "line": {
              "color": "#E5ECF6",
              "width": 0.5
             },
             "pattern": {
              "fillmode": "overlay",
              "size": 10,
              "solidity": 0.2
             }
            },
            "type": "bar"
           }
          ],
          "barpolar": [
           {
            "marker": {
             "line": {
              "color": "#E5ECF6",
              "width": 0.5
             },
             "pattern": {
              "fillmode": "overlay",
              "size": 10,
              "solidity": 0.2
             }
            },
            "type": "barpolar"
           }
          ],
          "carpet": [
           {
            "aaxis": {
             "endlinecolor": "#2a3f5f",
             "gridcolor": "white",
             "linecolor": "white",
             "minorgridcolor": "white",
             "startlinecolor": "#2a3f5f"
            },
            "baxis": {
             "endlinecolor": "#2a3f5f",
             "gridcolor": "white",
             "linecolor": "white",
             "minorgridcolor": "white",
             "startlinecolor": "#2a3f5f"
            },
            "type": "carpet"
           }
          ],
          "choropleth": [
           {
            "colorbar": {
             "outlinewidth": 0,
             "ticks": ""
            },
            "type": "choropleth"
           }
          ],
          "contour": [
           {
            "colorbar": {
             "outlinewidth": 0,
             "ticks": ""
            },
            "colorscale": [
             [
              0,
              "#0d0887"
             ],
             [
              0.1111111111111111,
              "#46039f"
             ],
             [
              0.2222222222222222,
              "#7201a8"
             ],
             [
              0.3333333333333333,
              "#9c179e"
             ],
             [
              0.4444444444444444,
              "#bd3786"
             ],
             [
              0.5555555555555556,
              "#d8576b"
             ],
             [
              0.6666666666666666,
              "#ed7953"
             ],
             [
              0.7777777777777778,
              "#fb9f3a"
             ],
             [
              0.8888888888888888,
              "#fdca26"
             ],
             [
              1,
              "#f0f921"
             ]
            ],
            "type": "contour"
           }
          ],
          "contourcarpet": [
           {
            "colorbar": {
             "outlinewidth": 0,
             "ticks": ""
            },
            "type": "contourcarpet"
           }
          ],
          "heatmap": [
           {
            "colorbar": {
             "outlinewidth": 0,
             "ticks": ""
            },
            "colorscale": [
             [
              0,
              "#0d0887"
             ],
             [
              0.1111111111111111,
              "#46039f"
             ],
             [
              0.2222222222222222,
              "#7201a8"
             ],
             [
              0.3333333333333333,
              "#9c179e"
             ],
             [
              0.4444444444444444,
              "#bd3786"
             ],
             [
              0.5555555555555556,
              "#d8576b"
             ],
             [
              0.6666666666666666,
              "#ed7953"
             ],
             [
              0.7777777777777778,
              "#fb9f3a"
             ],
             [
              0.8888888888888888,
              "#fdca26"
             ],
             [
              1,
              "#f0f921"
             ]
            ],
            "type": "heatmap"
           }
          ],
          "heatmapgl": [
           {
            "colorbar": {
             "outlinewidth": 0,
             "ticks": ""
            },
            "colorscale": [
             [
              0,
              "#0d0887"
             ],
             [
              0.1111111111111111,
              "#46039f"
             ],
             [
              0.2222222222222222,
              "#7201a8"
             ],
             [
              0.3333333333333333,
              "#9c179e"
             ],
             [
              0.4444444444444444,
              "#bd3786"
             ],
             [
              0.5555555555555556,
              "#d8576b"
             ],
             [
              0.6666666666666666,
              "#ed7953"
             ],
             [
              0.7777777777777778,
              "#fb9f3a"
             ],
             [
              0.8888888888888888,
              "#fdca26"
             ],
             [
              1,
              "#f0f921"
             ]
            ],
            "type": "heatmapgl"
           }
          ],
          "histogram": [
           {
            "marker": {
             "pattern": {
              "fillmode": "overlay",
              "size": 10,
              "solidity": 0.2
             }
            },
            "type": "histogram"
           }
          ],
          "histogram2d": [
           {
            "colorbar": {
             "outlinewidth": 0,
             "ticks": ""
            },
            "colorscale": [
             [
              0,
              "#0d0887"
             ],
             [
              0.1111111111111111,
              "#46039f"
             ],
             [
              0.2222222222222222,
              "#7201a8"
             ],
             [
              0.3333333333333333,
              "#9c179e"
             ],
             [
              0.4444444444444444,
              "#bd3786"
             ],
             [
              0.5555555555555556,
              "#d8576b"
             ],
             [
              0.6666666666666666,
              "#ed7953"
             ],
             [
              0.7777777777777778,
              "#fb9f3a"
             ],
             [
              0.8888888888888888,
              "#fdca26"
             ],
             [
              1,
              "#f0f921"
             ]
            ],
            "type": "histogram2d"
           }
          ],
          "histogram2dcontour": [
           {
            "colorbar": {
             "outlinewidth": 0,
             "ticks": ""
            },
            "colorscale": [
             [
              0,
              "#0d0887"
             ],
             [
              0.1111111111111111,
              "#46039f"
             ],
             [
              0.2222222222222222,
              "#7201a8"
             ],
             [
              0.3333333333333333,
              "#9c179e"
             ],
             [
              0.4444444444444444,
              "#bd3786"
             ],
             [
              0.5555555555555556,
              "#d8576b"
             ],
             [
              0.6666666666666666,
              "#ed7953"
             ],
             [
              0.7777777777777778,
              "#fb9f3a"
             ],
             [
              0.8888888888888888,
              "#fdca26"
             ],
             [
              1,
              "#f0f921"
             ]
            ],
            "type": "histogram2dcontour"
           }
          ],
          "mesh3d": [
           {
            "colorbar": {
             "outlinewidth": 0,
             "ticks": ""
            },
            "type": "mesh3d"
           }
          ],
          "parcoords": [
           {
            "line": {
             "colorbar": {
              "outlinewidth": 0,
              "ticks": ""
             }
            },
            "type": "parcoords"
           }
          ],
          "pie": [
           {
            "automargin": true,
            "type": "pie"
           }
          ],
          "scatter": [
           {
            "marker": {
             "colorbar": {
              "outlinewidth": 0,
              "ticks": ""
             }
            },
            "type": "scatter"
           }
          ],
          "scatter3d": [
           {
            "line": {
             "colorbar": {
              "outlinewidth": 0,
              "ticks": ""
             }
            },
            "marker": {
             "colorbar": {
              "outlinewidth": 0,
              "ticks": ""
             }
            },
            "type": "scatter3d"
           }
          ],
          "scattercarpet": [
           {
            "marker": {
             "colorbar": {
              "outlinewidth": 0,
              "ticks": ""
             }
            },
            "type": "scattercarpet"
           }
          ],
          "scattergeo": [
           {
            "marker": {
             "colorbar": {
              "outlinewidth": 0,
              "ticks": ""
             }
            },
            "type": "scattergeo"
           }
          ],
          "scattergl": [
           {
            "marker": {
             "colorbar": {
              "outlinewidth": 0,
              "ticks": ""
             }
            },
            "type": "scattergl"
           }
          ],
          "scattermapbox": [
           {
            "marker": {
             "colorbar": {
              "outlinewidth": 0,
              "ticks": ""
             }
            },
            "type": "scattermapbox"
           }
          ],
          "scatterpolar": [
           {
            "marker": {
             "colorbar": {
              "outlinewidth": 0,
              "ticks": ""
             }
            },
            "type": "scatterpolar"
           }
          ],
          "scatterpolargl": [
           {
            "marker": {
             "colorbar": {
              "outlinewidth": 0,
              "ticks": ""
             }
            },
            "type": "scatterpolargl"
           }
          ],
          "scatterternary": [
           {
            "marker": {
             "colorbar": {
              "outlinewidth": 0,
              "ticks": ""
             }
            },
            "type": "scatterternary"
           }
          ],
          "surface": [
           {
            "colorbar": {
             "outlinewidth": 0,
             "ticks": ""
            },
            "colorscale": [
             [
              0,
              "#0d0887"
             ],
             [
              0.1111111111111111,
              "#46039f"
             ],
             [
              0.2222222222222222,
              "#7201a8"
             ],
             [
              0.3333333333333333,
              "#9c179e"
             ],
             [
              0.4444444444444444,
              "#bd3786"
             ],
             [
              0.5555555555555556,
              "#d8576b"
             ],
             [
              0.6666666666666666,
              "#ed7953"
             ],
             [
              0.7777777777777778,
              "#fb9f3a"
             ],
             [
              0.8888888888888888,
              "#fdca26"
             ],
             [
              1,
              "#f0f921"
             ]
            ],
            "type": "surface"
           }
          ],
          "table": [
           {
            "cells": {
             "fill": {
              "color": "#EBF0F8"
             },
             "line": {
              "color": "white"
             }
            },
            "header": {
             "fill": {
              "color": "#C8D4E3"
             },
             "line": {
              "color": "white"
             }
            },
            "type": "table"
           }
          ]
         },
         "layout": {
          "font": {
           "family": "Franklin Gothic",
           "size": 12
          },
          "height": 500,
          "template": {
           "data": {
            "bar": [
             {
              "error_x": {
               "color": "#f2f5fa"
              },
              "error_y": {
               "color": "#f2f5fa"
              },
              "marker": {
               "line": {
                "color": "rgb(17,17,17)",
                "width": 0.5
               },
               "pattern": {
                "fillmode": "overlay",
                "size": 10,
                "solidity": 0.2
               }
              },
              "type": "bar"
             }
            ],
            "barpolar": [
             {
              "marker": {
               "line": {
                "color": "rgb(17,17,17)",
                "width": 0.5
               },
               "pattern": {
                "fillmode": "overlay",
                "size": 10,
                "solidity": 0.2
               }
              },
              "type": "barpolar"
             }
            ],
            "carpet": [
             {
              "aaxis": {
               "endlinecolor": "#A2B1C6",
               "gridcolor": "#506784",
               "linecolor": "#506784",
               "minorgridcolor": "#506784",
               "startlinecolor": "#A2B1C6"
              },
              "baxis": {
               "endlinecolor": "#A2B1C6",
               "gridcolor": "#506784",
               "linecolor": "#506784",
               "minorgridcolor": "#506784",
               "startlinecolor": "#A2B1C6"
              },
              "type": "carpet"
             }
            ],
            "choropleth": [
             {
              "colorbar": {
               "outlinewidth": 0,
               "ticks": ""
              },
              "type": "choropleth"
             }
            ],
            "contour": [
             {
              "colorbar": {
               "outlinewidth": 0,
               "ticks": ""
              },
              "colorscale": [
               [
                0,
                "#0d0887"
               ],
               [
                0.1111111111111111,
                "#46039f"
               ],
               [
                0.2222222222222222,
                "#7201a8"
               ],
               [
                0.3333333333333333,
                "#9c179e"
               ],
               [
                0.4444444444444444,
                "#bd3786"
               ],
               [
                0.5555555555555556,
                "#d8576b"
               ],
               [
                0.6666666666666666,
                "#ed7953"
               ],
               [
                0.7777777777777778,
                "#fb9f3a"
               ],
               [
                0.8888888888888888,
                "#fdca26"
               ],
               [
                1,
                "#f0f921"
               ]
              ],
              "type": "contour"
             }
            ],
            "contourcarpet": [
             {
              "colorbar": {
               "outlinewidth": 0,
               "ticks": ""
              },
              "type": "contourcarpet"
             }
            ],
            "heatmap": [
             {
              "colorbar": {
               "outlinewidth": 0,
               "ticks": ""
              },
              "colorscale": [
               [
                0,
                "#0d0887"
               ],
               [
                0.1111111111111111,
                "#46039f"
               ],
               [
                0.2222222222222222,
                "#7201a8"
               ],
               [
                0.3333333333333333,
                "#9c179e"
               ],
               [
                0.4444444444444444,
                "#bd3786"
               ],
               [
                0.5555555555555556,
                "#d8576b"
               ],
               [
                0.6666666666666666,
                "#ed7953"
               ],
               [
                0.7777777777777778,
                "#fb9f3a"
               ],
               [
                0.8888888888888888,
                "#fdca26"
               ],
               [
                1,
                "#f0f921"
               ]
              ],
              "type": "heatmap"
             }
            ],
            "heatmapgl": [
             {
              "colorbar": {
               "outlinewidth": 0,
               "ticks": ""
              },
              "colorscale": [
               [
                0,
                "#0d0887"
               ],
               [
                0.1111111111111111,
                "#46039f"
               ],
               [
                0.2222222222222222,
                "#7201a8"
               ],
               [
                0.3333333333333333,
                "#9c179e"
               ],
               [
                0.4444444444444444,
                "#bd3786"
               ],
               [
                0.5555555555555556,
                "#d8576b"
               ],
               [
                0.6666666666666666,
                "#ed7953"
               ],
               [
                0.7777777777777778,
                "#fb9f3a"
               ],
               [
                0.8888888888888888,
                "#fdca26"
               ],
               [
                1,
                "#f0f921"
               ]
              ],
              "type": "heatmapgl"
             }
            ],
            "histogram": [
             {
              "marker": {
               "pattern": {
                "fillmode": "overlay",
                "size": 10,
                "solidity": 0.2
               }
              },
              "type": "histogram"
             }
            ],
            "histogram2d": [
             {
              "colorbar": {
               "outlinewidth": 0,
               "ticks": ""
              },
              "colorscale": [
               [
                0,
                "#0d0887"
               ],
               [
                0.1111111111111111,
                "#46039f"
               ],
               [
                0.2222222222222222,
                "#7201a8"
               ],
               [
                0.3333333333333333,
                "#9c179e"
               ],
               [
                0.4444444444444444,
                "#bd3786"
               ],
               [
                0.5555555555555556,
                "#d8576b"
               ],
               [
                0.6666666666666666,
                "#ed7953"
               ],
               [
                0.7777777777777778,
                "#fb9f3a"
               ],
               [
                0.8888888888888888,
                "#fdca26"
               ],
               [
                1,
                "#f0f921"
               ]
              ],
              "type": "histogram2d"
             }
            ],
            "histogram2dcontour": [
             {
              "colorbar": {
               "outlinewidth": 0,
               "ticks": ""
              },
              "colorscale": [
               [
                0,
                "#0d0887"
               ],
               [
                0.1111111111111111,
                "#46039f"
               ],
               [
                0.2222222222222222,
                "#7201a8"
               ],
               [
                0.3333333333333333,
                "#9c179e"
               ],
               [
                0.4444444444444444,
                "#bd3786"
               ],
               [
                0.5555555555555556,
                "#d8576b"
               ],
               [
                0.6666666666666666,
                "#ed7953"
               ],
               [
                0.7777777777777778,
                "#fb9f3a"
               ],
               [
                0.8888888888888888,
                "#fdca26"
               ],
               [
                1,
                "#f0f921"
               ]
              ],
              "type": "histogram2dcontour"
             }
            ],
            "mesh3d": [
             {
              "colorbar": {
               "outlinewidth": 0,
               "ticks": ""
              },
              "type": "mesh3d"
             }
            ],
            "parcoords": [
             {
              "line": {
               "colorbar": {
                "outlinewidth": 0,
                "ticks": ""
               }
              },
              "type": "parcoords"
             }
            ],
            "pie": [
             {
              "automargin": true,
              "type": "pie"
             }
            ],
            "scatter": [
             {
              "marker": {
               "line": {
                "color": "#283442"
               }
              },
              "type": "scatter"
             }
            ],
            "scatter3d": [
             {
              "line": {
               "colorbar": {
                "outlinewidth": 0,
                "ticks": ""
               }
              },
              "marker": {
               "colorbar": {
                "outlinewidth": 0,
                "ticks": ""
               }
              },
              "type": "scatter3d"
             }
            ],
            "scattercarpet": [
             {
              "marker": {
               "colorbar": {
                "outlinewidth": 0,
                "ticks": ""
               }
              },
              "type": "scattercarpet"
             }
            ],
            "scattergeo": [
             {
              "marker": {
               "colorbar": {
                "outlinewidth": 0,
                "ticks": ""
               }
              },
              "type": "scattergeo"
             }
            ],
            "scattergl": [
             {
              "marker": {
               "line": {
                "color": "#283442"
               }
              },
              "type": "scattergl"
             }
            ],
            "scattermapbox": [
             {
              "marker": {
               "colorbar": {
                "outlinewidth": 0,
                "ticks": ""
               }
              },
              "type": "scattermapbox"
             }
            ],
            "scatterpolar": [
             {
              "marker": {
               "colorbar": {
                "outlinewidth": 0,
                "ticks": ""
               }
              },
              "type": "scatterpolar"
             }
            ],
            "scatterpolargl": [
             {
              "marker": {
               "colorbar": {
                "outlinewidth": 0,
                "ticks": ""
               }
              },
              "type": "scatterpolargl"
             }
            ],
            "scatterternary": [
             {
              "marker": {
               "colorbar": {
                "outlinewidth": 0,
                "ticks": ""
               }
              },
              "type": "scatterternary"
             }
            ],
            "surface": [
             {
              "colorbar": {
               "outlinewidth": 0,
               "ticks": ""
              },
              "colorscale": [
               [
                0,
                "#0d0887"
               ],
               [
                0.1111111111111111,
                "#46039f"
               ],
               [
                0.2222222222222222,
                "#7201a8"
               ],
               [
                0.3333333333333333,
                "#9c179e"
               ],
               [
                0.4444444444444444,
                "#bd3786"
               ],
               [
                0.5555555555555556,
                "#d8576b"
               ],
               [
                0.6666666666666666,
                "#ed7953"
               ],
               [
                0.7777777777777778,
                "#fb9f3a"
               ],
               [
                0.8888888888888888,
                "#fdca26"
               ],
               [
                1,
                "#f0f921"
               ]
              ],
              "type": "surface"
             }
            ],
            "table": [
             {
              "cells": {
               "fill": {
                "color": "#506784"
               },
               "line": {
                "color": "rgb(17,17,17)"
               }
              },
              "header": {
               "fill": {
                "color": "#2a3f5f"
               },
               "line": {
                "color": "rgb(17,17,17)"
               }
              },
              "type": "table"
             }
            ]
           },
           "layout": {
            "annotationdefaults": {
             "arrowcolor": "#f2f5fa",
             "arrowhead": 0,
             "arrowwidth": 1
            },
            "autotypenumbers": "strict",
            "coloraxis": {
             "colorbar": {
              "outlinewidth": 0,
              "ticks": ""
             }
            },
            "colorscale": {
             "diverging": [
              [
               0,
               "#8e0152"
              ],
              [
               0.1,
               "#c51b7d"
              ],
              [
               0.2,
               "#de77ae"
              ],
              [
               0.3,
               "#f1b6da"
              ],
              [
               0.4,
               "#fde0ef"
              ],
              [
               0.5,
               "#f7f7f7"
              ],
              [
               0.6,
               "#e6f5d0"
              ],
              [
               0.7,
               "#b8e186"
              ],
              [
               0.8,
               "#7fbc41"
              ],
              [
               0.9,
               "#4d9221"
              ],
              [
               1,
               "#276419"
              ]
             ],
             "sequential": [
              [
               0,
               "#0d0887"
              ],
              [
               0.1111111111111111,
               "#46039f"
              ],
              [
               0.2222222222222222,
               "#7201a8"
              ],
              [
               0.3333333333333333,
               "#9c179e"
              ],
              [
               0.4444444444444444,
               "#bd3786"
              ],
              [
               0.5555555555555556,
               "#d8576b"
              ],
              [
               0.6666666666666666,
               "#ed7953"
              ],
              [
               0.7777777777777778,
               "#fb9f3a"
              ],
              [
               0.8888888888888888,
               "#fdca26"
              ],
              [
               1,
               "#f0f921"
              ]
             ],
             "sequentialminus": [
              [
               0,
               "#0d0887"
              ],
              [
               0.1111111111111111,
               "#46039f"
              ],
              [
               0.2222222222222222,
               "#7201a8"
              ],
              [
               0.3333333333333333,
               "#9c179e"
              ],
              [
               0.4444444444444444,
               "#bd3786"
              ],
              [
               0.5555555555555556,
               "#d8576b"
              ],
              [
               0.6666666666666666,
               "#ed7953"
              ],
              [
               0.7777777777777778,
               "#fb9f3a"
              ],
              [
               0.8888888888888888,
               "#fdca26"
              ],
              [
               1,
               "#f0f921"
              ]
             ]
            },
            "colorway": [
             "#636efa",
             "#EF553B",
             "#00cc96",
             "#ab63fa",
             "#FFA15A",
             "#19d3f3",
             "#FF6692",
             "#B6E880",
             "#FF97FF",
             "#FECB52"
            ],
            "font": {
             "color": "#f2f5fa"
            },
            "geo": {
             "bgcolor": "rgb(17,17,17)",
             "lakecolor": "rgb(17,17,17)",
             "landcolor": "rgb(17,17,17)",
             "showlakes": true,
             "showland": true,
             "subunitcolor": "#506784"
            },
            "hoverlabel": {
             "align": "left"
            },
            "hovermode": "closest",
            "mapbox": {
             "style": "dark"
            },
            "paper_bgcolor": "rgb(17,17,17)",
            "plot_bgcolor": "rgb(17,17,17)",
            "polar": {
             "angularaxis": {
              "gridcolor": "#506784",
              "linecolor": "#506784",
              "ticks": ""
             },
             "bgcolor": "rgb(17,17,17)",
             "radialaxis": {
              "gridcolor": "#506784",
              "linecolor": "#506784",
              "ticks": ""
             }
            },
            "scene": {
             "xaxis": {
              "backgroundcolor": "rgb(17,17,17)",
              "gridcolor": "#506784",
              "gridwidth": 2,
              "linecolor": "#506784",
              "showbackground": true,
              "ticks": "",
              "zerolinecolor": "#C8D4E3"
             },
             "yaxis": {
              "backgroundcolor": "rgb(17,17,17)",
              "gridcolor": "#506784",
              "gridwidth": 2,
              "linecolor": "#506784",
              "showbackground": true,
              "ticks": "",
              "zerolinecolor": "#C8D4E3"
             },
             "zaxis": {
              "backgroundcolor": "rgb(17,17,17)",
              "gridcolor": "#506784",
              "gridwidth": 2,
              "linecolor": "#506784",
              "showbackground": true,
              "ticks": "",
              "zerolinecolor": "#C8D4E3"
             }
            },
            "shapedefaults": {
             "line": {
              "color": "#f2f5fa"
             }
            },
            "sliderdefaults": {
             "bgcolor": "#C8D4E3",
             "bordercolor": "rgb(17,17,17)",
             "borderwidth": 1,
             "tickwidth": 0
            },
            "ternary": {
             "aaxis": {
              "gridcolor": "#506784",
              "linecolor": "#506784",
              "ticks": ""
             },
             "baxis": {
              "gridcolor": "#506784",
              "linecolor": "#506784",
              "ticks": ""
             },
             "bgcolor": "rgb(17,17,17)",
             "caxis": {
              "gridcolor": "#506784",
              "linecolor": "#506784",
              "ticks": ""
             }
            },
            "title": {
             "x": 0.05
            },
            "updatemenudefaults": {
             "bgcolor": "#506784",
             "borderwidth": 0
            },
            "xaxis": {
             "automargin": true,
             "gridcolor": "#283442",
             "linecolor": "#506784",
             "ticks": "",
             "title": {
              "standoff": 15
             },
             "zerolinecolor": "#283442",
             "zerolinewidth": 2
            },
            "yaxis": {
             "automargin": true,
             "gridcolor": "#283442",
             "linecolor": "#506784",
             "ticks": "",
             "title": {
              "standoff": 15
             },
             "zerolinecolor": "#283442",
             "zerolinewidth": 2
            }
           }
          },
          "width": 1000
         }
        },
        "title": {
         "text": "LGBM Feature Importance<br>Top 50"
        },
        "width": 800,
        "xaxis": {
         "title": {
          "text": "Importance"
         },
         "zeroline": false
        },
        "yaxis": {
         "showgrid": false
        }
       }
      }
     },
     "metadata": {},
     "output_type": "display_data"
    }
   ],
   "source": [
    "top = 50\n",
    "\n",
    "feature_importance_df['avg'] = feature_importance_df.mean(axis=1)\n",
    "feature_importance_top = feature_importance_df.avg.nlargest(top).sort_values(ascending=True)\n",
    "\n",
    "pal=sns.color_palette(\"YlGnBu\", 65).as_hex()\n",
    "fig=go.Figure()\n",
    "for i in range(len(feature_importance_top.index)):\n",
    "    fig.add_shape(dict(type=\"line\", y0=i, y1=i, x0=0, x1=feature_importance_top[i],\n",
    "                       line_color=pal[::-1][i],opacity=0.8,line_width=4))\n",
    "\n",
    "fig.add_trace(go.Scatter(x=feature_importance_top, y=feature_importance_top.index, mode='markers',\n",
    "                         marker_color=pal[::-1], marker_size=8,\n",
    "                         hovertemplate='%{y} Importance = %{x:.0f}<extra></extra>'))\n",
    "\n",
    "fig.update_layout(template=plotly_template,title=f'LGBM Feature Importance<br>Top {top}',\n",
    "                  margin=dict(l=150,t=80),\n",
    "                  xaxis=dict(title='Importance', zeroline=False),\n",
    "                  yaxis_showgrid=False, height=1000, width=800)\n",
    "fig.show()"
   ]
  },
  {
   "cell_type": "code",
   "execution_count": null,
   "metadata": {},
   "outputs": [],
   "source": [
    "fig = go.Figure(layout=plotly_template['layout'])\n",
    "fig.add_trace(\n",
    "    go.Histogram(\n",
    "        x=test_df[Config.target],\n",
    "        name=f'Prediction',\n",
    "        histnorm='probability',\n",
    "        marker=dict(color=color_palette['Bin'][0]),\n",
    "        #line=dict(color='black')\n",
    "    ),\n",
    ")\n",
    "\n",
    "fig.add_trace(\n",
    "    go.Histogram(\n",
    "        x=df_train[Config.target],\n",
    "        name=f'Train',\n",
    "        histnorm='probability',\n",
    "        marker=dict(color=color_palette['Bin'][1]),\n",
    "        opacity=0.5\n",
    "        #line=dict(color='black')\n",
    "    ),\n",
    ")\n",
    "\n",
    "fig.update_layout(\n",
    "    title='Prediction Distribution',\n",
    "    barmode='overlay',\n",
    "    uniformtext_minsize=15,\n",
    "    uniformtext_mode='hide',\n",
    "    width=700)\n",
    "\n",
    "fig.show()"
   ]
  },
  {
   "cell_type": "code",
   "execution_count": null,
   "metadata": {},
   "outputs": [],
   "source": [
    "test_df = test_df.astype({'genre': int})\n",
    "test_df.info()"
   ]
  },
  {
   "cell_type": "code",
   "execution_count": null,
   "metadata": {},
   "outputs": [],
   "source": [
    "test_df[Config.target].describe()"
   ]
  },
  {
   "cell_type": "code",
   "execution_count": null,
   "metadata": {},
   "outputs": [],
   "source": [
    "Config.NB"
   ]
  },
  {
   "cell_type": "code",
   "execution_count": null,
   "metadata": {},
   "outputs": [],
   "source": [
    "test_df.to_csv(Config.submission_dir + f'nb{Config.NB}.csv', index=False, header=False)"
   ]
  },
  {
   "cell_type": "code",
   "execution_count": null,
   "metadata": {},
   "outputs": [],
   "source": []
  },
  {
   "cell_type": "markdown",
   "metadata": {},
   "source": [
    "## 検証メモ"
   ]
  },
  {
   "cell_type": "code",
   "execution_count": null,
   "metadata": {},
   "outputs": [],
   "source": []
  }
 ],
 "metadata": {
  "interpreter": {
   "hash": "dc8a78a13283e3ba74119858067a74c2c7a55702e09c935fdd8fe4b244251524"
  },
  "kernelspec": {
   "display_name": "Python 3.9.7 64-bit ('3.9.7': pyenv)",
   "name": "python3"
  },
  "language_info": {
   "codemirror_mode": {
    "name": "ipython",
    "version": 3
   },
   "file_extension": ".py",
   "mimetype": "text/x-python",
   "name": "python",
   "nbconvert_exporter": "python",
   "pygments_lexer": "ipython3",
   "version": "3.9.7"
  }
 },
 "nbformat": 4,
 "nbformat_minor": 4
}
